{
  "nbformat": 4,
  "nbformat_minor": 0,
  "metadata": {
    "colab": {
      "name": "3.1_Univariate.ipynb",
      "provenance": [],
      "collapsed_sections": [],
      "authorship_tag": "ABX9TyOIxKuOwOT3DUJzT+ZP5naY",
      "include_colab_link": true
    },
    "kernelspec": {
      "name": "python3",
      "display_name": "Python 3"
    },
    "language_info": {
      "name": "python"
    }
  },
  "cells": [
    {
      "cell_type": "markdown",
      "metadata": {
        "id": "view-in-github",
        "colab_type": "text"
      },
      "source": [
        "<a href=\"https://colab.research.google.com/github/Ankit7557/Machine_Learning/blob/main/03_LinearRegression/3.1_Univariate.ipynb\" target=\"_parent\"><img src=\"https://colab.research.google.com/assets/colab-badge.svg\" alt=\"Open In Colab\"/></a>"
      ]
    },
    {
      "cell_type": "markdown",
      "metadata": {
        "id": "IuloOq-lhz9I"
      },
      "source": [
        "> This notebook was created for code illustration of the `ML.now()` course\n",
        "\n",
        "\n",
        "`Univariate Linear Regression`\n",
        "\n",
        "[Link to Download the dataset](https://archive.ics.uci.edu/ml/datasets/Student+Performance)\n",
        "\n",
        "**Date Created**: June 6, 2021\n",
        "\n",
        "\n",
        "**Author**:\n",
        " Ankit Prajapati "
      ]
    },
    {
      "cell_type": "code",
      "metadata": {
        "colab": {
          "base_uri": "https://localhost:8080/"
        },
        "id": "6wKE01xBb-tG",
        "outputId": "20153d14-1d52-4160-94fd-4a571dcd2ac3"
      },
      "source": [
        "from google.colab import drive\n",
        "drive.mount('/content/drive')"
      ],
      "execution_count": null,
      "outputs": [
        {
          "output_type": "stream",
          "text": [
            "Drive already mounted at /content/drive; to attempt to forcibly remount, call drive.mount(\"/content/drive\", force_remount=True).\n"
          ],
          "name": "stdout"
        }
      ]
    },
    {
      "cell_type": "code",
      "metadata": {
        "id": "UdSO2z8rengs",
        "colab": {
          "base_uri": "https://localhost:8080/"
        },
        "outputId": "fb4d2af1-8daa-4672-c618-62deda86bb56"
      },
      "source": [
        "cd '/content/drive/MyDrive/ML/eda_02/student'"
      ],
      "execution_count": null,
      "outputs": [
        {
          "output_type": "stream",
          "text": [
            "/content/drive/MyDrive/ML/eda_02/student\n"
          ],
          "name": "stdout"
        }
      ]
    },
    {
      "cell_type": "code",
      "metadata": {
        "id": "-NSvQuB1eqCi",
        "colab": {
          "base_uri": "https://localhost:8080/"
        },
        "outputId": "c9c3e209-1f9a-478a-869a-dc74abf50628"
      },
      "source": [
        "ls"
      ],
      "execution_count": null,
      "outputs": [
        {
          "output_type": "stream",
          "text": [
            "cleanedMathData.csv  student-merge.R  student.txt\n",
            "student-mat.csv      student-por.csv  univariate_MathData_2.csv\n"
          ],
          "name": "stdout"
        }
      ]
    },
    {
      "cell_type": "code",
      "metadata": {
        "id": "IwONBh-9g-PX"
      },
      "source": [
        "import pandas as pd #working with csv or excel files\n",
        "import numpy as np #working with numbers/ arrays/ tensors\n",
        "import tensorflow as tf #framework\n",
        "from tensorflow import keras #API / library \n",
        "import os #using os commands between the python language"
      ],
      "execution_count": null,
      "outputs": []
    },
    {
      "cell_type": "code",
      "metadata": {
        "id": "Tv9owtfysNND"
      },
      "source": [
        "mathData = pd.read_csv('student-mat.csv', sep=';') #load the csv file as dataframe"
      ],
      "execution_count": null,
      "outputs": []
    },
    {
      "cell_type": "code",
      "metadata": {
        "colab": {
          "base_uri": "https://localhost:8080/",
          "height": 377
        },
        "id": "l0XBwna6sSlL",
        "outputId": "209631ff-ec62-4708-9ed5-da22445d4954"
      },
      "source": [
        "mathData.head(10) #print the first ten rows of the dataframe"
      ],
      "execution_count": null,
      "outputs": [
        {
          "output_type": "execute_result",
          "data": {
            "text/html": [
              "<div>\n",
              "<style scoped>\n",
              "    .dataframe tbody tr th:only-of-type {\n",
              "        vertical-align: middle;\n",
              "    }\n",
              "\n",
              "    .dataframe tbody tr th {\n",
              "        vertical-align: top;\n",
              "    }\n",
              "\n",
              "    .dataframe thead th {\n",
              "        text-align: right;\n",
              "    }\n",
              "</style>\n",
              "<table border=\"1\" class=\"dataframe\">\n",
              "  <thead>\n",
              "    <tr style=\"text-align: right;\">\n",
              "      <th></th>\n",
              "      <th>school</th>\n",
              "      <th>sex</th>\n",
              "      <th>age</th>\n",
              "      <th>address</th>\n",
              "      <th>famsize</th>\n",
              "      <th>Pstatus</th>\n",
              "      <th>Medu</th>\n",
              "      <th>Fedu</th>\n",
              "      <th>Mjob</th>\n",
              "      <th>Fjob</th>\n",
              "      <th>reason</th>\n",
              "      <th>guardian</th>\n",
              "      <th>traveltime</th>\n",
              "      <th>studytime</th>\n",
              "      <th>failures</th>\n",
              "      <th>schoolsup</th>\n",
              "      <th>famsup</th>\n",
              "      <th>paid</th>\n",
              "      <th>activities</th>\n",
              "      <th>nursery</th>\n",
              "      <th>higher</th>\n",
              "      <th>internet</th>\n",
              "      <th>romantic</th>\n",
              "      <th>famrel</th>\n",
              "      <th>freetime</th>\n",
              "      <th>goout</th>\n",
              "      <th>Dalc</th>\n",
              "      <th>Walc</th>\n",
              "      <th>health</th>\n",
              "      <th>absences</th>\n",
              "      <th>G1</th>\n",
              "      <th>G2</th>\n",
              "      <th>G3</th>\n",
              "    </tr>\n",
              "  </thead>\n",
              "  <tbody>\n",
              "    <tr>\n",
              "      <th>0</th>\n",
              "      <td>GP</td>\n",
              "      <td>F</td>\n",
              "      <td>18</td>\n",
              "      <td>U</td>\n",
              "      <td>GT3</td>\n",
              "      <td>A</td>\n",
              "      <td>4</td>\n",
              "      <td>4</td>\n",
              "      <td>at_home</td>\n",
              "      <td>teacher</td>\n",
              "      <td>course</td>\n",
              "      <td>mother</td>\n",
              "      <td>2</td>\n",
              "      <td>2</td>\n",
              "      <td>0</td>\n",
              "      <td>yes</td>\n",
              "      <td>no</td>\n",
              "      <td>no</td>\n",
              "      <td>no</td>\n",
              "      <td>yes</td>\n",
              "      <td>yes</td>\n",
              "      <td>no</td>\n",
              "      <td>no</td>\n",
              "      <td>4</td>\n",
              "      <td>3</td>\n",
              "      <td>4</td>\n",
              "      <td>1</td>\n",
              "      <td>1</td>\n",
              "      <td>3</td>\n",
              "      <td>6</td>\n",
              "      <td>5</td>\n",
              "      <td>6</td>\n",
              "      <td>6</td>\n",
              "    </tr>\n",
              "    <tr>\n",
              "      <th>1</th>\n",
              "      <td>GP</td>\n",
              "      <td>F</td>\n",
              "      <td>17</td>\n",
              "      <td>U</td>\n",
              "      <td>GT3</td>\n",
              "      <td>T</td>\n",
              "      <td>1</td>\n",
              "      <td>1</td>\n",
              "      <td>at_home</td>\n",
              "      <td>other</td>\n",
              "      <td>course</td>\n",
              "      <td>father</td>\n",
              "      <td>1</td>\n",
              "      <td>2</td>\n",
              "      <td>0</td>\n",
              "      <td>no</td>\n",
              "      <td>yes</td>\n",
              "      <td>no</td>\n",
              "      <td>no</td>\n",
              "      <td>no</td>\n",
              "      <td>yes</td>\n",
              "      <td>yes</td>\n",
              "      <td>no</td>\n",
              "      <td>5</td>\n",
              "      <td>3</td>\n",
              "      <td>3</td>\n",
              "      <td>1</td>\n",
              "      <td>1</td>\n",
              "      <td>3</td>\n",
              "      <td>4</td>\n",
              "      <td>5</td>\n",
              "      <td>5</td>\n",
              "      <td>6</td>\n",
              "    </tr>\n",
              "    <tr>\n",
              "      <th>2</th>\n",
              "      <td>GP</td>\n",
              "      <td>F</td>\n",
              "      <td>15</td>\n",
              "      <td>U</td>\n",
              "      <td>LE3</td>\n",
              "      <td>T</td>\n",
              "      <td>1</td>\n",
              "      <td>1</td>\n",
              "      <td>at_home</td>\n",
              "      <td>other</td>\n",
              "      <td>other</td>\n",
              "      <td>mother</td>\n",
              "      <td>1</td>\n",
              "      <td>2</td>\n",
              "      <td>3</td>\n",
              "      <td>yes</td>\n",
              "      <td>no</td>\n",
              "      <td>yes</td>\n",
              "      <td>no</td>\n",
              "      <td>yes</td>\n",
              "      <td>yes</td>\n",
              "      <td>yes</td>\n",
              "      <td>no</td>\n",
              "      <td>4</td>\n",
              "      <td>3</td>\n",
              "      <td>2</td>\n",
              "      <td>2</td>\n",
              "      <td>3</td>\n",
              "      <td>3</td>\n",
              "      <td>10</td>\n",
              "      <td>7</td>\n",
              "      <td>8</td>\n",
              "      <td>10</td>\n",
              "    </tr>\n",
              "    <tr>\n",
              "      <th>3</th>\n",
              "      <td>GP</td>\n",
              "      <td>F</td>\n",
              "      <td>15</td>\n",
              "      <td>U</td>\n",
              "      <td>GT3</td>\n",
              "      <td>T</td>\n",
              "      <td>4</td>\n",
              "      <td>2</td>\n",
              "      <td>health</td>\n",
              "      <td>services</td>\n",
              "      <td>home</td>\n",
              "      <td>mother</td>\n",
              "      <td>1</td>\n",
              "      <td>3</td>\n",
              "      <td>0</td>\n",
              "      <td>no</td>\n",
              "      <td>yes</td>\n",
              "      <td>yes</td>\n",
              "      <td>yes</td>\n",
              "      <td>yes</td>\n",
              "      <td>yes</td>\n",
              "      <td>yes</td>\n",
              "      <td>yes</td>\n",
              "      <td>3</td>\n",
              "      <td>2</td>\n",
              "      <td>2</td>\n",
              "      <td>1</td>\n",
              "      <td>1</td>\n",
              "      <td>5</td>\n",
              "      <td>2</td>\n",
              "      <td>15</td>\n",
              "      <td>14</td>\n",
              "      <td>15</td>\n",
              "    </tr>\n",
              "    <tr>\n",
              "      <th>4</th>\n",
              "      <td>GP</td>\n",
              "      <td>F</td>\n",
              "      <td>16</td>\n",
              "      <td>U</td>\n",
              "      <td>GT3</td>\n",
              "      <td>T</td>\n",
              "      <td>3</td>\n",
              "      <td>3</td>\n",
              "      <td>other</td>\n",
              "      <td>other</td>\n",
              "      <td>home</td>\n",
              "      <td>father</td>\n",
              "      <td>1</td>\n",
              "      <td>2</td>\n",
              "      <td>0</td>\n",
              "      <td>no</td>\n",
              "      <td>yes</td>\n",
              "      <td>yes</td>\n",
              "      <td>no</td>\n",
              "      <td>yes</td>\n",
              "      <td>yes</td>\n",
              "      <td>no</td>\n",
              "      <td>no</td>\n",
              "      <td>4</td>\n",
              "      <td>3</td>\n",
              "      <td>2</td>\n",
              "      <td>1</td>\n",
              "      <td>2</td>\n",
              "      <td>5</td>\n",
              "      <td>4</td>\n",
              "      <td>6</td>\n",
              "      <td>10</td>\n",
              "      <td>10</td>\n",
              "    </tr>\n",
              "    <tr>\n",
              "      <th>5</th>\n",
              "      <td>GP</td>\n",
              "      <td>M</td>\n",
              "      <td>16</td>\n",
              "      <td>U</td>\n",
              "      <td>LE3</td>\n",
              "      <td>T</td>\n",
              "      <td>4</td>\n",
              "      <td>3</td>\n",
              "      <td>services</td>\n",
              "      <td>other</td>\n",
              "      <td>reputation</td>\n",
              "      <td>mother</td>\n",
              "      <td>1</td>\n",
              "      <td>2</td>\n",
              "      <td>0</td>\n",
              "      <td>no</td>\n",
              "      <td>yes</td>\n",
              "      <td>yes</td>\n",
              "      <td>yes</td>\n",
              "      <td>yes</td>\n",
              "      <td>yes</td>\n",
              "      <td>yes</td>\n",
              "      <td>no</td>\n",
              "      <td>5</td>\n",
              "      <td>4</td>\n",
              "      <td>2</td>\n",
              "      <td>1</td>\n",
              "      <td>2</td>\n",
              "      <td>5</td>\n",
              "      <td>10</td>\n",
              "      <td>15</td>\n",
              "      <td>15</td>\n",
              "      <td>15</td>\n",
              "    </tr>\n",
              "    <tr>\n",
              "      <th>6</th>\n",
              "      <td>GP</td>\n",
              "      <td>M</td>\n",
              "      <td>16</td>\n",
              "      <td>U</td>\n",
              "      <td>LE3</td>\n",
              "      <td>T</td>\n",
              "      <td>2</td>\n",
              "      <td>2</td>\n",
              "      <td>other</td>\n",
              "      <td>other</td>\n",
              "      <td>home</td>\n",
              "      <td>mother</td>\n",
              "      <td>1</td>\n",
              "      <td>2</td>\n",
              "      <td>0</td>\n",
              "      <td>no</td>\n",
              "      <td>no</td>\n",
              "      <td>no</td>\n",
              "      <td>no</td>\n",
              "      <td>yes</td>\n",
              "      <td>yes</td>\n",
              "      <td>yes</td>\n",
              "      <td>no</td>\n",
              "      <td>4</td>\n",
              "      <td>4</td>\n",
              "      <td>4</td>\n",
              "      <td>1</td>\n",
              "      <td>1</td>\n",
              "      <td>3</td>\n",
              "      <td>0</td>\n",
              "      <td>12</td>\n",
              "      <td>12</td>\n",
              "      <td>11</td>\n",
              "    </tr>\n",
              "    <tr>\n",
              "      <th>7</th>\n",
              "      <td>GP</td>\n",
              "      <td>F</td>\n",
              "      <td>17</td>\n",
              "      <td>U</td>\n",
              "      <td>GT3</td>\n",
              "      <td>A</td>\n",
              "      <td>4</td>\n",
              "      <td>4</td>\n",
              "      <td>other</td>\n",
              "      <td>teacher</td>\n",
              "      <td>home</td>\n",
              "      <td>mother</td>\n",
              "      <td>2</td>\n",
              "      <td>2</td>\n",
              "      <td>0</td>\n",
              "      <td>yes</td>\n",
              "      <td>yes</td>\n",
              "      <td>no</td>\n",
              "      <td>no</td>\n",
              "      <td>yes</td>\n",
              "      <td>yes</td>\n",
              "      <td>no</td>\n",
              "      <td>no</td>\n",
              "      <td>4</td>\n",
              "      <td>1</td>\n",
              "      <td>4</td>\n",
              "      <td>1</td>\n",
              "      <td>1</td>\n",
              "      <td>1</td>\n",
              "      <td>6</td>\n",
              "      <td>6</td>\n",
              "      <td>5</td>\n",
              "      <td>6</td>\n",
              "    </tr>\n",
              "    <tr>\n",
              "      <th>8</th>\n",
              "      <td>GP</td>\n",
              "      <td>M</td>\n",
              "      <td>15</td>\n",
              "      <td>U</td>\n",
              "      <td>LE3</td>\n",
              "      <td>A</td>\n",
              "      <td>3</td>\n",
              "      <td>2</td>\n",
              "      <td>services</td>\n",
              "      <td>other</td>\n",
              "      <td>home</td>\n",
              "      <td>mother</td>\n",
              "      <td>1</td>\n",
              "      <td>2</td>\n",
              "      <td>0</td>\n",
              "      <td>no</td>\n",
              "      <td>yes</td>\n",
              "      <td>yes</td>\n",
              "      <td>no</td>\n",
              "      <td>yes</td>\n",
              "      <td>yes</td>\n",
              "      <td>yes</td>\n",
              "      <td>no</td>\n",
              "      <td>4</td>\n",
              "      <td>2</td>\n",
              "      <td>2</td>\n",
              "      <td>1</td>\n",
              "      <td>1</td>\n",
              "      <td>1</td>\n",
              "      <td>0</td>\n",
              "      <td>16</td>\n",
              "      <td>18</td>\n",
              "      <td>19</td>\n",
              "    </tr>\n",
              "    <tr>\n",
              "      <th>9</th>\n",
              "      <td>GP</td>\n",
              "      <td>M</td>\n",
              "      <td>15</td>\n",
              "      <td>U</td>\n",
              "      <td>GT3</td>\n",
              "      <td>T</td>\n",
              "      <td>3</td>\n",
              "      <td>4</td>\n",
              "      <td>other</td>\n",
              "      <td>other</td>\n",
              "      <td>home</td>\n",
              "      <td>mother</td>\n",
              "      <td>1</td>\n",
              "      <td>2</td>\n",
              "      <td>0</td>\n",
              "      <td>no</td>\n",
              "      <td>yes</td>\n",
              "      <td>yes</td>\n",
              "      <td>yes</td>\n",
              "      <td>yes</td>\n",
              "      <td>yes</td>\n",
              "      <td>yes</td>\n",
              "      <td>no</td>\n",
              "      <td>5</td>\n",
              "      <td>5</td>\n",
              "      <td>1</td>\n",
              "      <td>1</td>\n",
              "      <td>1</td>\n",
              "      <td>5</td>\n",
              "      <td>0</td>\n",
              "      <td>14</td>\n",
              "      <td>15</td>\n",
              "      <td>15</td>\n",
              "    </tr>\n",
              "  </tbody>\n",
              "</table>\n",
              "</div>"
            ],
            "text/plain": [
              "  school sex  age address famsize Pstatus  ...  Walc  health absences  G1  G2  G3\n",
              "0     GP   F   18       U     GT3       A  ...     1       3        6   5   6   6\n",
              "1     GP   F   17       U     GT3       T  ...     1       3        4   5   5   6\n",
              "2     GP   F   15       U     LE3       T  ...     3       3       10   7   8  10\n",
              "3     GP   F   15       U     GT3       T  ...     1       5        2  15  14  15\n",
              "4     GP   F   16       U     GT3       T  ...     2       5        4   6  10  10\n",
              "5     GP   M   16       U     LE3       T  ...     2       5       10  15  15  15\n",
              "6     GP   M   16       U     LE3       T  ...     1       3        0  12  12  11\n",
              "7     GP   F   17       U     GT3       A  ...     1       1        6   6   5   6\n",
              "8     GP   M   15       U     LE3       A  ...     1       1        0  16  18  19\n",
              "9     GP   M   15       U     GT3       T  ...     1       5        0  14  15  15\n",
              "\n",
              "[10 rows x 33 columns]"
            ]
          },
          "metadata": {
            "tags": []
          },
          "execution_count": 42
        }
      ]
    },
    {
      "cell_type": "markdown",
      "metadata": {
        "id": "TaOePcuhslKM"
      },
      "source": [
        "We are going to consider the columns `G1` and `G3` for univariate Linear regression\n",
        "\n"
      ]
    },
    {
      "cell_type": "code",
      "metadata": {
        "colab": {
          "base_uri": "https://localhost:8080/",
          "height": 203
        },
        "id": "hdkGU557sTTo",
        "outputId": "864a5709-0d40-4ae7-f8eb-9d3a12f9dafc"
      },
      "source": [
        "uniMathData = mathData[['G1', 'G3']]\n",
        "uniMathData.head(5)"
      ],
      "execution_count": null,
      "outputs": [
        {
          "output_type": "execute_result",
          "data": {
            "text/html": [
              "<div>\n",
              "<style scoped>\n",
              "    .dataframe tbody tr th:only-of-type {\n",
              "        vertical-align: middle;\n",
              "    }\n",
              "\n",
              "    .dataframe tbody tr th {\n",
              "        vertical-align: top;\n",
              "    }\n",
              "\n",
              "    .dataframe thead th {\n",
              "        text-align: right;\n",
              "    }\n",
              "</style>\n",
              "<table border=\"1\" class=\"dataframe\">\n",
              "  <thead>\n",
              "    <tr style=\"text-align: right;\">\n",
              "      <th></th>\n",
              "      <th>G1</th>\n",
              "      <th>G3</th>\n",
              "    </tr>\n",
              "  </thead>\n",
              "  <tbody>\n",
              "    <tr>\n",
              "      <th>0</th>\n",
              "      <td>5</td>\n",
              "      <td>6</td>\n",
              "    </tr>\n",
              "    <tr>\n",
              "      <th>1</th>\n",
              "      <td>5</td>\n",
              "      <td>6</td>\n",
              "    </tr>\n",
              "    <tr>\n",
              "      <th>2</th>\n",
              "      <td>7</td>\n",
              "      <td>10</td>\n",
              "    </tr>\n",
              "    <tr>\n",
              "      <th>3</th>\n",
              "      <td>15</td>\n",
              "      <td>15</td>\n",
              "    </tr>\n",
              "    <tr>\n",
              "      <th>4</th>\n",
              "      <td>6</td>\n",
              "      <td>10</td>\n",
              "    </tr>\n",
              "  </tbody>\n",
              "</table>\n",
              "</div>"
            ],
            "text/plain": [
              "   G1  G3\n",
              "0   5   6\n",
              "1   5   6\n",
              "2   7  10\n",
              "3  15  15\n",
              "4   6  10"
            ]
          },
          "metadata": {
            "tags": []
          },
          "execution_count": 43
        }
      ]
    },
    {
      "cell_type": "code",
      "metadata": {
        "id": "YFuAbstZsTWV"
      },
      "source": [
        "uniMathData.to_csv('univariate_MathData_2.csv')"
      ],
      "execution_count": null,
      "outputs": []
    },
    {
      "cell_type": "code",
      "metadata": {
        "colab": {
          "base_uri": "https://localhost:8080/"
        },
        "id": "ftlWwA6SsTYt",
        "outputId": "bfbfd4a9-0194-48f6-ceda-b727ebe62b52"
      },
      "source": [
        "ls"
      ],
      "execution_count": null,
      "outputs": [
        {
          "output_type": "stream",
          "text": [
            "cleanedMathData.csv  student-merge.R  student.txt\n",
            "student-mat.csv      student-por.csv  univariate_MathData_2.csv\n"
          ],
          "name": "stdout"
        }
      ]
    },
    {
      "cell_type": "markdown",
      "metadata": {
        "id": "mMHgjJUZsasb"
      },
      "source": [
        "## Data visualization"
      ]
    },
    {
      "cell_type": "code",
      "metadata": {
        "colab": {
          "base_uri": "https://localhost:8080/",
          "height": 153
        },
        "id": "CrjyhLZ5sTbE",
        "outputId": "622301d0-0091-43b9-86c3-a6591e0e0bd6"
      },
      "source": [
        "import seaborn as sns\n",
        "sns.palplot(sns.color_palette('PuOr')) #Purple to Orange colors\n",
        "pal = sns.color_palette('PuOr', 6) #print 6 color shades from Purple to Orange\n",
        "pal.as_hex() #set hex code values for colors\n",
        "\n",
        "import matplotlib.pyplot as plt\n",
        "plt.style.use(['seaborn'])\n",
        "sns_colors = ['#c6690c', '#664697'] #orange Purple hex codes\n",
        "sns.set_palette(sns_colors) #set the palette as sns_colors \n",
        "sns.palplot(sns.color_palette(sns_colors)) #plot the color codes"
      ],
      "execution_count": null,
      "outputs": [
        {
          "output_type": "display_data",
          "data": {
            "image/png": "[encoded data removed]",
            "text/plain": [
              "<Figure size 432x72 with 1 Axes>"
            ]
          },
          "metadata": {
            "tags": []
          }
        },
        {
          "output_type": "display_data",
          "data": {
            "image/png": "[encoded data removed]",
            "text/plain": [
              "<Figure size 144x72 with 1 Axes>"
            ]
          },
          "metadata": {
            "tags": []
          }
        }
      ]
    },
    {
      "cell_type": "code",
      "metadata": {
        "colab": {
          "base_uri": "https://localhost:8080/"
        },
        "id": "SL11UJ0csTdo",
        "outputId": "8bc6ce2a-ee7e-458b-80a3-70b68316191b"
      },
      "source": [
        "uniMathData.columns #columns in the dataframe"
      ],
      "execution_count": null,
      "outputs": [
        {
          "output_type": "execute_result",
          "data": {
            "text/plain": [
              "Index(['G1', 'G3'], dtype='object')"
            ]
          },
          "metadata": {
            "tags": []
          },
          "execution_count": 47
        }
      ]
    },
    {
      "cell_type": "code",
      "metadata": {
        "colab": {
          "base_uri": "https://localhost:8080/",
          "height": 391
        },
        "id": "ulccIH1ZsTf-",
        "outputId": "1f4c892b-3742-4a7d-cf34-27d027ef1009"
      },
      "source": [
        "#pairplot for all the values\n",
        "\n",
        "sns.pairplot(uniMathData,\n",
        "             x_vars = ['G1', 'G3'],\n",
        "             y_vars =  ['G1', 'G3'],\n",
        "       diag_kind='kde'\n",
        "             )"
      ],
      "execution_count": null,
      "outputs": [
        {
          "output_type": "execute_result",
          "data": {
            "text/plain": [
              "<seaborn.axisgrid.PairGrid at 0x7f1a7bb192d0>"
            ]
          },
          "metadata": {
            "tags": []
          },
          "execution_count": 48
        },
        {
          "output_type": "display_data",
          "data": {
            "image/png": "[encoded data removed]",
            "text/plain": [
              "<Figure size 360x360 with 6 Axes>"
            ]
          },
          "metadata": {
            "tags": []
          }
        }
      ]
    },
    {
      "cell_type": "code",
      "metadata": {
        "colab": {
          "base_uri": "https://localhost:8080/"
        },
        "id": "D84zHkTEsTia",
        "outputId": "8ebaf353-3ce6-45b6-c64f-27469ae8ee2c"
      },
      "source": [
        "#80-20 train-test percent split\n",
        "\n",
        "trainDataset = uniMathData.sample(frac=0.8, random_state=0) \n",
        "testDataset = uniMathData.drop(trainDataset.index)\n",
        "\n",
        "print(trainDataset.head())\n",
        "print(testDataset.head())"
      ],
      "execution_count": null,
      "outputs": [
        {
          "output_type": "stream",
          "text": [
            "     G1  G3\n",
            "329  14  14\n",
            "318  11  10\n",
            "317   9   9\n",
            "65   16  15\n",
            "59   15  16\n",
            "    G1  G3\n",
            "9   14  15\n",
            "25   6   8\n",
            "28  11  11\n",
            "31  17  17\n",
            "32  17  16\n"
          ],
          "name": "stdout"
        }
      ]
    },
    {
      "cell_type": "code",
      "metadata": {
        "colab": {
          "base_uri": "https://localhost:8080/"
        },
        "id": "pEDic1AysTk9",
        "outputId": "fd6ad240-4228-4fd6-948c-22199d671a11"
      },
      "source": [
        "print(trainDataset.shape)\n",
        "print(testDataset.shape)"
      ],
      "execution_count": null,
      "outputs": [
        {
          "output_type": "stream",
          "text": [
            "(316, 2)\n",
            "(79, 2)\n"
          ],
          "name": "stdout"
        }
      ]
    },
    {
      "cell_type": "code",
      "metadata": {
        "colab": {
          "base_uri": "https://localhost:8080/"
        },
        "id": "lFIln_OUsTnw",
        "outputId": "b171e8f9-2bfd-43d6-e891-edf13b168925"
      },
      "source": [
        "#copy the trainDataset dataframe for getting the features\n",
        "\n",
        "trainFeatures = trainDataset.copy()\n",
        "testFeatures = testDataset.copy()\n",
        "\n",
        "print(trainFeatures.head())\n",
        "print(testFeatures.head())"
      ],
      "execution_count": null,
      "outputs": [
        {
          "output_type": "stream",
          "text": [
            "     G1  G3\n",
            "329  14  14\n",
            "318  11  10\n",
            "317   9   9\n",
            "65   16  15\n",
            "59   15  16\n",
            "    G1  G3\n",
            "9   14  15\n",
            "25   6   8\n",
            "28  11  11\n",
            "31  17  17\n",
            "32  17  16\n"
          ],
          "name": "stdout"
        }
      ]
    },
    {
      "cell_type": "code",
      "metadata": {
        "colab": {
          "base_uri": "https://localhost:8080/"
        },
        "id": "MMsNgifRsTqL",
        "outputId": "8d088fe0-2bbb-4369-ba79-7a4d3b24fced"
      },
      "source": [
        "#removing the G3 column and saving it into the labels variable\n",
        "\n",
        "trainLabels = trainFeatures.pop('G3')\n",
        "testLabels = testFeatures.pop('G3')\n",
        "\n",
        "print(trainLabels.head())\n",
        "print(testLabels.head())"
      ],
      "execution_count": null,
      "outputs": [
        {
          "output_type": "stream",
          "text": [
            "329    14\n",
            "318    10\n",
            "317     9\n",
            "65     15\n",
            "59     16\n",
            "Name: G3, dtype: int64\n",
            "9     15\n",
            "25     8\n",
            "28    11\n",
            "31    17\n",
            "32    16\n",
            "Name: G3, dtype: int64\n"
          ],
          "name": "stdout"
        }
      ]
    },
    {
      "cell_type": "code",
      "metadata": {
        "colab": {
          "base_uri": "https://localhost:8080/"
        },
        "id": "2vze-JGIsTtD",
        "outputId": "45d825e0-3335-4283-cc63-4c914461a4d1"
      },
      "source": [
        "print(trainFeatures.head())\n",
        "print(testFeatures.head())"
      ],
      "execution_count": null,
      "outputs": [
        {
          "output_type": "stream",
          "text": [
            "     G1\n",
            "329  14\n",
            "318  11\n",
            "317   9\n",
            "65   16\n",
            "59   15\n",
            "    G1\n",
            "9   14\n",
            "25   6\n",
            "28  11\n",
            "31  17\n",
            "32  17\n"
          ],
          "name": "stdout"
        }
      ]
    },
    {
      "cell_type": "code",
      "metadata": {
        "id": "jYvqd-MdtS36"
      },
      "source": [
        "# univariate -> num(features) = 1\n",
        "# multvariate -> num(features) > 1 = 11\n",
        "\n",
        "\n",
        "model = tf.keras.Sequential([\n",
        "                             tf.keras.layers.Dense(1)\n",
        "\n",
        "])"
      ],
      "execution_count": null,
      "outputs": []
    },
    {
      "cell_type": "code",
      "metadata": {
        "id": "F8dPoLWMtc4w"
      },
      "source": [
        "model.compile(\n",
        "    loss = 'mean_absolute_error',\n",
        "    optimizer = tf.keras.optimizers.Adam(0.001),\n",
        "    metrics = ['mae', 'mse']\n",
        ")"
      ],
      "execution_count": null,
      "outputs": []
    },
    {
      "cell_type": "code",
      "metadata": {
        "colab": {
          "base_uri": "https://localhost:8080/"
        },
        "id": "nG1CCvxMtfmM",
        "outputId": "fd82d4d5-d824-4f32-8470-0b444605e3e6"
      },
      "source": [
        "numEpochs = 300\n",
        "history = model.fit(x = trainFeatures, y = trainLabels, validation_data = (testFeatures, testLabels), epochs = numEpochs)"
      ],
      "execution_count": null,
      "outputs": [
        {
          "output_type": "stream",
          "text": [
            "Epoch 1/300\n",
            "10/10 [==============================] - 1s 18ms/step - loss: 10.2020 - mae: 10.2020 - mse: 124.3622 - val_loss: 10.6892 - val_mae: 10.6892 - val_mse: 134.3152\n",
            "Epoch 2/300\n",
            "10/10 [==============================] - 0s 4ms/step - loss: 10.1026 - mae: 10.1026 - mse: 121.7769 - val_loss: 10.5789 - val_mae: 10.5789 - val_mse: 131.4073\n",
            "Epoch 3/300\n",
            "10/10 [==============================] - 0s 4ms/step - loss: 10.0023 - mae: 10.0023 - mse: 119.2384 - val_loss: 10.4691 - val_mae: 10.4691 - val_mse: 128.5438\n",
            "Epoch 4/300\n",
            "10/10 [==============================] - 0s 4ms/step - loss: 9.9001 - mae: 9.9001 - mse: 116.6061 - val_loss: 10.3604 - val_mae: 10.3604 - val_mse: 125.7424\n",
            "Epoch 5/300\n",
            "10/10 [==============================] - 0s 4ms/step - loss: 9.8016 - mae: 9.8016 - mse: 114.1807 - val_loss: 10.2499 - val_mae: 10.2499 - val_mse: 122.9254\n",
            "Epoch 6/300\n",
            "10/10 [==============================] - 0s 4ms/step - loss: 9.7011 - mae: 9.7011 - mse: 111.6584 - val_loss: 10.1398 - val_mae: 10.1398 - val_mse: 120.1552\n",
            "Epoch 7/300\n",
            "10/10 [==============================] - 0s 4ms/step - loss: 9.6004 - mae: 9.6004 - mse: 109.2057 - val_loss: 10.0303 - val_mae: 10.0303 - val_mse: 117.4308\n",
            "Epoch 8/300\n",
            "10/10 [==============================] - 0s 4ms/step - loss: 9.5000 - mae: 9.5000 - mse: 106.7647 - val_loss: 9.9207 - val_mae: 9.9207 - val_mse: 114.7389\n",
            "Epoch 9/300\n",
            "10/10 [==============================] - 0s 4ms/step - loss: 9.3993 - mae: 9.3993 - mse: 104.3604 - val_loss: 9.8116 - val_mae: 9.8116 - val_mse: 112.0922\n",
            "Epoch 10/300\n",
            "10/10 [==============================] - 0s 4ms/step - loss: 9.3006 - mae: 9.3006 - mse: 102.0022 - val_loss: 9.7012 - val_mae: 9.7012 - val_mse: 109.4450\n",
            "Epoch 11/300\n",
            "10/10 [==============================] - 0s 4ms/step - loss: 9.1991 - mae: 9.1991 - mse: 99.6573 - val_loss: 9.5921 - val_mae: 9.5921 - val_mse: 106.8632\n",
            "Epoch 12/300\n",
            "10/10 [==============================] - 0s 4ms/step - loss: 9.1004 - mae: 9.1004 - mse: 97.4066 - val_loss: 9.4814 - val_mae: 9.4814 - val_mse: 104.2783\n",
            "Epoch 13/300\n",
            "10/10 [==============================] - 0s 6ms/step - loss: 8.9982 - mae: 8.9982 - mse: 95.0751 - val_loss: 9.3727 - val_mae: 9.3727 - val_mse: 101.7707\n",
            "Epoch 14/300\n",
            "10/10 [==============================] - 0s 4ms/step - loss: 8.8991 - mae: 8.8991 - mse: 92.8774 - val_loss: 9.2628 - val_mae: 9.2628 - val_mse: 99.2696\n",
            "Epoch 15/300\n",
            "10/10 [==============================] - 0s 4ms/step - loss: 8.7985 - mae: 8.7985 - mse: 90.6331 - val_loss: 9.1533 - val_mae: 9.1533 - val_mse: 96.8111\n",
            "Epoch 16/300\n",
            "10/10 [==============================] - 0s 4ms/step - loss: 8.6989 - mae: 8.6989 - mse: 88.4480 - val_loss: 9.0432 - val_mae: 9.0432 - val_mse: 94.3711\n",
            "Epoch 17/300\n",
            "10/10 [==============================] - 0s 4ms/step - loss: 8.5982 - mae: 8.5982 - mse: 86.2798 - val_loss: 8.9336 - val_mae: 8.9336 - val_mse: 91.9756\n",
            "Epoch 18/300\n",
            "10/10 [==============================] - 0s 4ms/step - loss: 8.4974 - mae: 8.4974 - mse: 84.1381 - val_loss: 8.8246 - val_mae: 8.8246 - val_mse: 89.6264\n",
            "Epoch 19/300\n",
            "10/10 [==============================] - 0s 5ms/step - loss: 8.3982 - mae: 8.3982 - mse: 82.0702 - val_loss: 8.7145 - val_mae: 8.7145 - val_mse: 87.2862\n",
            "Epoch 20/300\n",
            "10/10 [==============================] - 0s 4ms/step - loss: 8.2966 - mae: 8.2966 - mse: 79.9913 - val_loss: 8.6056 - val_mae: 8.6056 - val_mse: 85.0052\n",
            "Epoch 21/300\n",
            "10/10 [==============================] - 0s 5ms/step - loss: 8.1965 - mae: 8.1965 - mse: 77.9383 - val_loss: 8.4966 - val_mae: 8.4966 - val_mse: 82.7555\n",
            "Epoch 22/300\n",
            "10/10 [==============================] - 0s 5ms/step - loss: 8.0965 - mae: 8.0965 - mse: 75.9617 - val_loss: 8.3872 - val_mae: 8.3872 - val_mse: 80.5284\n",
            "Epoch 23/300\n",
            "10/10 [==============================] - 0s 4ms/step - loss: 7.9980 - mae: 7.9980 - mse: 73.9730 - val_loss: 8.2761 - val_mae: 8.2761 - val_mse: 78.3006\n",
            "Epoch 24/300\n",
            "10/10 [==============================] - 0s 4ms/step - loss: 7.8976 - mae: 7.8976 - mse: 72.0214 - val_loss: 8.1655 - val_mae: 8.1655 - val_mse: 76.1184\n",
            "Epoch 25/300\n",
            "10/10 [==============================] - 0s 5ms/step - loss: 7.7964 - mae: 7.7964 - mse: 70.0855 - val_loss: 8.0563 - val_mae: 8.0563 - val_mse: 73.9948\n",
            "Epoch 26/300\n",
            "10/10 [==============================] - 0s 4ms/step - loss: 7.6964 - mae: 7.6964 - mse: 68.2068 - val_loss: 7.9471 - val_mae: 7.9471 - val_mse: 71.9043\n",
            "Epoch 27/300\n",
            "10/10 [==============================] - 0s 4ms/step - loss: 7.5947 - mae: 7.5947 - mse: 66.3020 - val_loss: 7.8394 - val_mae: 7.8394 - val_mse: 69.8761\n",
            "Epoch 28/300\n",
            "10/10 [==============================] - 0s 4ms/step - loss: 7.4965 - mae: 7.4965 - mse: 64.5137 - val_loss: 7.7294 - val_mae: 7.7294 - val_mse: 67.8363\n",
            "Epoch 29/300\n",
            "10/10 [==============================] - 0s 4ms/step - loss: 7.3968 - mae: 7.3968 - mse: 62.7460 - val_loss: 7.6188 - val_mae: 7.6188 - val_mse: 65.8194\n",
            "Epoch 30/300\n",
            "10/10 [==============================] - 0s 4ms/step - loss: 7.2968 - mae: 7.2968 - mse: 60.9201 - val_loss: 7.5084 - val_mae: 7.5084 - val_mse: 63.8391\n",
            "Epoch 31/300\n",
            "10/10 [==============================] - 0s 4ms/step - loss: 7.1962 - mae: 7.1962 - mse: 59.1805 - val_loss: 7.3987 - val_mae: 7.3987 - val_mse: 61.9053\n",
            "Epoch 32/300\n",
            "10/10 [==============================] - 0s 4ms/step - loss: 7.0953 - mae: 7.0953 - mse: 57.4679 - val_loss: 7.2903 - val_mae: 7.2903 - val_mse: 60.0257\n",
            "Epoch 33/300\n",
            "10/10 [==============================] - 0s 4ms/step - loss: 6.9964 - mae: 6.9964 - mse: 55.8064 - val_loss: 7.1807 - val_mae: 7.1807 - val_mse: 58.1593\n",
            "Epoch 34/300\n",
            "10/10 [==============================] - 0s 4ms/step - loss: 6.8947 - mae: 6.8947 - mse: 54.1456 - val_loss: 7.0729 - val_mae: 7.0729 - val_mse: 56.3552\n",
            "Epoch 35/300\n",
            "10/10 [==============================] - 0s 5ms/step - loss: 6.7965 - mae: 6.7965 - mse: 52.5231 - val_loss: 6.9629 - val_mae: 6.9629 - val_mse: 54.5473\n",
            "Epoch 36/300\n",
            "10/10 [==============================] - 0s 4ms/step - loss: 6.6968 - mae: 6.6968 - mse: 50.9438 - val_loss: 6.8525 - val_mae: 6.8525 - val_mse: 52.7669\n",
            "Epoch 37/300\n",
            "10/10 [==============================] - 0s 4ms/step - loss: 6.5959 - mae: 6.5959 - mse: 49.3575 - val_loss: 6.7431 - val_mae: 6.7431 - val_mse: 51.0355\n",
            "Epoch 38/300\n",
            "10/10 [==============================] - 0s 4ms/step - loss: 6.4952 - mae: 6.4952 - mse: 47.8201 - val_loss: 6.6347 - val_mae: 6.6347 - val_mse: 49.3524\n",
            "Epoch 39/300\n",
            "10/10 [==============================] - 0s 4ms/step - loss: 6.3962 - mae: 6.3962 - mse: 46.3272 - val_loss: 6.5252 - val_mae: 6.5252 - val_mse: 47.6844\n",
            "Epoch 40/300\n",
            "10/10 [==============================] - 0s 4ms/step - loss: 6.2955 - mae: 6.2955 - mse: 44.8202 - val_loss: 6.4167 - val_mae: 6.4167 - val_mse: 46.0648\n",
            "Epoch 41/300\n",
            "10/10 [==============================] - 0s 4ms/step - loss: 6.1957 - mae: 6.1957 - mse: 43.3890 - val_loss: 6.3075 - val_mae: 6.3075 - val_mse: 44.4678\n",
            "Epoch 42/300\n",
            "10/10 [==============================] - 0s 4ms/step - loss: 6.0972 - mae: 6.0972 - mse: 41.9925 - val_loss: 6.1967 - val_mae: 6.1967 - val_mse: 42.8795\n",
            "Epoch 43/300\n",
            "10/10 [==============================] - 0s 4ms/step - loss: 5.9953 - mae: 5.9953 - mse: 40.5826 - val_loss: 6.0879 - val_mae: 6.0879 - val_mse: 41.3537\n",
            "Epoch 44/300\n",
            "10/10 [==============================] - 0s 4ms/step - loss: 5.8958 - mae: 5.8958 - mse: 39.2189 - val_loss: 5.9783 - val_mae: 5.9783 - val_mse: 39.8501\n",
            "Epoch 45/300\n",
            "10/10 [==============================] - 0s 4ms/step - loss: 5.7967 - mae: 5.7967 - mse: 37.9026 - val_loss: 5.8677 - val_mae: 5.8677 - val_mse: 38.3652\n",
            "Epoch 46/300\n",
            "10/10 [==============================] - 0s 4ms/step - loss: 5.6955 - mae: 5.6955 - mse: 36.5969 - val_loss: 5.7584 - val_mae: 5.7584 - val_mse: 36.9310\n",
            "Epoch 47/300\n",
            "10/10 [==============================] - 0s 4ms/step - loss: 5.5956 - mae: 5.5956 - mse: 35.3149 - val_loss: 5.6488 - val_mae: 5.6488 - val_mse: 35.5265\n",
            "Epoch 48/300\n",
            "10/10 [==============================] - 0s 4ms/step - loss: 5.4949 - mae: 5.4949 - mse: 34.0658 - val_loss: 5.5398 - val_mae: 5.5398 - val_mse: 34.1621\n",
            "Epoch 49/300\n",
            "10/10 [==============================] - 0s 5ms/step - loss: 5.3951 - mae: 5.3951 - mse: 32.8543 - val_loss: 5.4303 - val_mae: 5.4303 - val_mse: 32.8249\n",
            "Epoch 50/300\n",
            "10/10 [==============================] - 0s 4ms/step - loss: 5.2952 - mae: 5.2952 - mse: 31.6828 - val_loss: 5.3204 - val_mae: 5.3204 - val_mse: 31.5149\n",
            "Epoch 51/300\n",
            "10/10 [==============================] - 0s 5ms/step - loss: 5.1954 - mae: 5.1954 - mse: 30.5529 - val_loss: 5.2101 - val_mae: 5.2101 - val_mse: 30.2334\n",
            "Epoch 52/300\n",
            "10/10 [==============================] - 0s 6ms/step - loss: 5.0947 - mae: 5.0947 - mse: 29.3950 - val_loss: 5.1005 - val_mae: 5.1005 - val_mse: 28.9949\n",
            "Epoch 53/300\n",
            "10/10 [==============================] - 0s 4ms/step - loss: 4.9947 - mae: 4.9947 - mse: 28.3004 - val_loss: 4.9912 - val_mae: 4.9912 - val_mse: 27.7912\n",
            "Epoch 54/300\n",
            "10/10 [==============================] - 0s 6ms/step - loss: 4.8945 - mae: 4.8945 - mse: 27.2296 - val_loss: 4.8822 - val_mae: 4.8822 - val_mse: 26.6236\n",
            "Epoch 55/300\n",
            "10/10 [==============================] - 0s 5ms/step - loss: 4.7956 - mae: 4.7956 - mse: 26.2238 - val_loss: 4.7722 - val_mae: 4.7722 - val_mse: 25.4792\n",
            "Epoch 56/300\n",
            "10/10 [==============================] - 0s 4ms/step - loss: 4.6944 - mae: 4.6944 - mse: 25.1844 - val_loss: 4.6647 - val_mae: 4.6647 - val_mse: 24.3781\n",
            "Epoch 57/300\n",
            "10/10 [==============================] - 0s 6ms/step - loss: 4.5930 - mae: 4.5930 - mse: 24.2006 - val_loss: 4.5593 - val_mae: 4.5593 - val_mse: 23.3224\n",
            "Epoch 58/300\n",
            "10/10 [==============================] - 0s 4ms/step - loss: 4.4949 - mae: 4.4949 - mse: 23.2671 - val_loss: 4.4520 - val_mae: 4.4520 - val_mse: 22.2804\n",
            "Epoch 59/300\n",
            "10/10 [==============================] - 0s 4ms/step - loss: 4.3960 - mae: 4.3960 - mse: 22.3467 - val_loss: 4.3443 - val_mae: 4.3443 - val_mse: 21.2673\n",
            "Epoch 60/300\n",
            "10/10 [==============================] - 0s 6ms/step - loss: 4.2951 - mae: 4.2951 - mse: 21.4485 - val_loss: 4.2381 - val_mae: 4.2381 - val_mse: 20.3015\n",
            "Epoch 61/300\n",
            "10/10 [==============================] - 0s 5ms/step - loss: 4.1994 - mae: 4.1994 - mse: 20.6359 - val_loss: 4.1289 - val_mae: 4.1289 - val_mse: 19.3425\n",
            "Epoch 62/300\n",
            "10/10 [==============================] - 0s 4ms/step - loss: 4.0981 - mae: 4.0981 - mse: 19.7701 - val_loss: 4.0232 - val_mae: 4.0232 - val_mse: 18.4463\n",
            "Epoch 63/300\n",
            "10/10 [==============================] - 0s 4ms/step - loss: 3.9997 - mae: 3.9997 - mse: 18.9822 - val_loss: 3.9181 - val_mae: 3.9181 - val_mse: 17.5869\n",
            "Epoch 64/300\n",
            "10/10 [==============================] - 0s 4ms/step - loss: 3.9021 - mae: 3.9021 - mse: 18.2114 - val_loss: 3.8137 - val_mae: 3.8137 - val_mse: 16.7644\n",
            "Epoch 65/300\n",
            "10/10 [==============================] - 0s 4ms/step - loss: 3.8071 - mae: 3.8071 - mse: 17.4839 - val_loss: 3.7080 - val_mae: 3.7080 - val_mse: 15.9634\n",
            "Epoch 66/300\n",
            "10/10 [==============================] - 0s 4ms/step - loss: 3.7115 - mae: 3.7115 - mse: 16.7934 - val_loss: 3.6017 - val_mae: 3.6017 - val_mse: 15.1910\n",
            "Epoch 67/300\n",
            "10/10 [==============================] - 0s 4ms/step - loss: 3.6151 - mae: 3.6151 - mse: 16.1177 - val_loss: 3.4962 - val_mae: 3.4962 - val_mse: 14.4557\n",
            "Epoch 68/300\n",
            "10/10 [==============================] - 0s 4ms/step - loss: 3.5200 - mae: 3.5200 - mse: 15.4519 - val_loss: 3.3938 - val_mae: 3.3938 - val_mse: 13.7728\n",
            "Epoch 69/300\n",
            "10/10 [==============================] - 0s 4ms/step - loss: 3.4306 - mae: 3.4306 - mse: 14.8811 - val_loss: 3.2891 - val_mae: 3.2891 - val_mse: 13.1057\n",
            "Epoch 70/300\n",
            "10/10 [==============================] - 0s 4ms/step - loss: 3.3380 - mae: 3.3380 - mse: 14.2956 - val_loss: 3.1862 - val_mae: 3.1862 - val_mse: 12.4801\n",
            "Epoch 71/300\n",
            "10/10 [==============================] - 0s 5ms/step - loss: 3.2462 - mae: 3.2462 - mse: 13.7384 - val_loss: 3.0839 - val_mae: 3.0839 - val_mse: 11.8892\n",
            "Epoch 72/300\n",
            "10/10 [==============================] - 0s 4ms/step - loss: 3.1561 - mae: 3.1561 - mse: 13.2311 - val_loss: 2.9829 - val_mae: 2.9829 - val_mse: 11.3278\n",
            "Epoch 73/300\n",
            "10/10 [==============================] - 0s 4ms/step - loss: 3.0666 - mae: 3.0666 - mse: 12.7287 - val_loss: 2.8853 - val_mae: 2.8853 - val_mse: 10.8032\n",
            "Epoch 74/300\n",
            "10/10 [==============================] - 0s 4ms/step - loss: 2.9798 - mae: 2.9798 - mse: 12.2741 - val_loss: 2.7881 - val_mae: 2.7881 - val_mse: 10.3097\n",
            "Epoch 75/300\n",
            "10/10 [==============================] - 0s 4ms/step - loss: 2.8946 - mae: 2.8946 - mse: 11.8340 - val_loss: 2.6939 - val_mae: 2.6939 - val_mse: 9.8594\n",
            "Epoch 76/300\n",
            "10/10 [==============================] - 0s 4ms/step - loss: 2.8131 - mae: 2.8131 - mse: 11.4448 - val_loss: 2.6023 - val_mae: 2.6023 - val_mse: 9.4341\n",
            "Epoch 77/300\n",
            "10/10 [==============================] - 0s 4ms/step - loss: 2.7345 - mae: 2.7345 - mse: 11.0907 - val_loss: 2.5148 - val_mae: 2.5148 - val_mse: 9.0395\n",
            "Epoch 78/300\n",
            "10/10 [==============================] - 0s 4ms/step - loss: 2.6573 - mae: 2.6573 - mse: 10.7364 - val_loss: 2.4290 - val_mae: 2.4290 - val_mse: 8.6790\n",
            "Epoch 79/300\n",
            "10/10 [==============================] - 0s 4ms/step - loss: 2.5826 - mae: 2.5826 - mse: 10.4293 - val_loss: 2.3441 - val_mae: 2.3441 - val_mse: 8.3480\n",
            "Epoch 80/300\n",
            "10/10 [==============================] - 0s 4ms/step - loss: 2.5084 - mae: 2.5084 - mse: 10.1348 - val_loss: 2.2606 - val_mae: 2.2606 - val_mse: 8.0469\n",
            "Epoch 81/300\n",
            "10/10 [==============================] - 0s 4ms/step - loss: 2.4407 - mae: 2.4407 - mse: 9.8871 - val_loss: 2.1797 - val_mae: 2.1797 - val_mse: 7.7790\n",
            "Epoch 82/300\n",
            "10/10 [==============================] - 0s 4ms/step - loss: 2.3773 - mae: 2.3773 - mse: 9.6584 - val_loss: 2.1035 - val_mae: 2.1035 - val_mse: 7.5431\n",
            "Epoch 83/300\n",
            "10/10 [==============================] - 0s 4ms/step - loss: 2.3195 - mae: 2.3195 - mse: 9.4457 - val_loss: 2.0313 - val_mae: 2.0313 - val_mse: 7.3365\n",
            "Epoch 84/300\n",
            "10/10 [==============================] - 0s 4ms/step - loss: 2.2646 - mae: 2.2646 - mse: 9.2722 - val_loss: 1.9650 - val_mae: 1.9650 - val_mse: 7.1562\n",
            "Epoch 85/300\n",
            "10/10 [==============================] - 0s 5ms/step - loss: 2.2183 - mae: 2.2183 - mse: 9.1268 - val_loss: 1.9036 - val_mae: 1.9036 - val_mse: 7.0026\n",
            "Epoch 86/300\n",
            "10/10 [==============================] - 0s 4ms/step - loss: 2.1746 - mae: 2.1746 - mse: 8.9911 - val_loss: 1.8459 - val_mae: 1.8459 - val_mse: 6.8713\n",
            "Epoch 87/300\n",
            "10/10 [==============================] - 0s 4ms/step - loss: 2.1376 - mae: 2.1376 - mse: 8.8868 - val_loss: 1.7981 - val_mae: 1.7981 - val_mse: 6.7684\n",
            "Epoch 88/300\n",
            "10/10 [==============================] - 0s 4ms/step - loss: 2.1061 - mae: 2.1061 - mse: 8.7901 - val_loss: 1.7552 - val_mae: 1.7552 - val_mse: 6.6818\n",
            "Epoch 89/300\n",
            "10/10 [==============================] - 0s 4ms/step - loss: 2.0780 - mae: 2.0780 - mse: 8.7183 - val_loss: 1.7228 - val_mae: 1.7228 - val_mse: 6.6035\n",
            "Epoch 90/300\n",
            "10/10 [==============================] - 0s 6ms/step - loss: 2.0507 - mae: 2.0507 - mse: 8.6534 - val_loss: 1.6915 - val_mae: 1.6915 - val_mse: 6.5373\n",
            "Epoch 91/300\n",
            "10/10 [==============================] - 0s 4ms/step - loss: 2.0242 - mae: 2.0242 - mse: 8.5954 - val_loss: 1.6690 - val_mae: 1.6690 - val_mse: 6.4862\n",
            "Epoch 92/300\n",
            "10/10 [==============================] - 0s 3ms/step - loss: 2.0031 - mae: 2.0031 - mse: 8.5571 - val_loss: 1.6472 - val_mae: 1.6472 - val_mse: 6.4435\n",
            "Epoch 93/300\n",
            "10/10 [==============================] - 0s 4ms/step - loss: 1.9832 - mae: 1.9832 - mse: 8.5170 - val_loss: 1.6310 - val_mae: 1.6310 - val_mse: 6.4126\n",
            "Epoch 94/300\n",
            "10/10 [==============================] - 0s 4ms/step - loss: 1.9691 - mae: 1.9691 - mse: 8.5024 - val_loss: 1.6150 - val_mae: 1.6150 - val_mse: 6.3869\n",
            "Epoch 95/300\n",
            "10/10 [==============================] - 0s 4ms/step - loss: 1.9535 - mae: 1.9535 - mse: 8.4746 - val_loss: 1.6050 - val_mae: 1.6050 - val_mse: 6.3715\n",
            "Epoch 96/300\n",
            "10/10 [==============================] - 0s 4ms/step - loss: 1.9419 - mae: 1.9419 - mse: 8.4560 - val_loss: 1.5977 - val_mae: 1.5977 - val_mse: 6.3614\n",
            "Epoch 97/300\n",
            "10/10 [==============================] - 0s 4ms/step - loss: 1.9336 - mae: 1.9336 - mse: 8.4504 - val_loss: 1.5945 - val_mae: 1.5945 - val_mse: 6.3551\n",
            "Epoch 98/300\n",
            "10/10 [==============================] - 0s 4ms/step - loss: 1.9258 - mae: 1.9258 - mse: 8.4529 - val_loss: 1.5918 - val_mae: 1.5918 - val_mse: 6.3524\n",
            "Epoch 99/300\n",
            "10/10 [==============================] - 0s 4ms/step - loss: 1.9190 - mae: 1.9190 - mse: 8.4516 - val_loss: 1.5915 - val_mae: 1.5915 - val_mse: 6.3526\n",
            "Epoch 100/300\n",
            "10/10 [==============================] - 0s 5ms/step - loss: 1.9135 - mae: 1.9135 - mse: 8.4497 - val_loss: 1.5913 - val_mae: 1.5913 - val_mse: 6.3548\n",
            "Epoch 101/300\n",
            "10/10 [==============================] - 0s 4ms/step - loss: 1.9085 - mae: 1.9085 - mse: 8.4480 - val_loss: 1.5911 - val_mae: 1.5911 - val_mse: 6.3584\n",
            "Epoch 102/300\n",
            "10/10 [==============================] - 0s 4ms/step - loss: 1.9045 - mae: 1.9045 - mse: 8.4547 - val_loss: 1.5909 - val_mae: 1.5909 - val_mse: 6.3645\n",
            "Epoch 103/300\n",
            "10/10 [==============================] - 0s 4ms/step - loss: 1.8990 - mae: 1.8990 - mse: 8.4569 - val_loss: 1.5917 - val_mae: 1.5917 - val_mse: 6.3709\n",
            "Epoch 104/300\n",
            "10/10 [==============================] - 0s 4ms/step - loss: 1.8959 - mae: 1.8959 - mse: 8.4651 - val_loss: 1.5933 - val_mae: 1.5933 - val_mse: 6.3798\n",
            "Epoch 105/300\n",
            "10/10 [==============================] - 0s 4ms/step - loss: 1.8923 - mae: 1.8923 - mse: 8.4709 - val_loss: 1.5946 - val_mae: 1.5946 - val_mse: 6.3890\n",
            "Epoch 106/300\n",
            "10/10 [==============================] - 0s 4ms/step - loss: 1.8892 - mae: 1.8892 - mse: 8.4785 - val_loss: 1.5960 - val_mae: 1.5960 - val_mse: 6.3998\n",
            "Epoch 107/300\n",
            "10/10 [==============================] - 0s 4ms/step - loss: 1.8864 - mae: 1.8864 - mse: 8.4946 - val_loss: 1.5978 - val_mae: 1.5978 - val_mse: 6.4130\n",
            "Epoch 108/300\n",
            "10/10 [==============================] - 0s 4ms/step - loss: 1.8835 - mae: 1.8835 - mse: 8.5004 - val_loss: 1.5999 - val_mae: 1.5999 - val_mse: 6.4223\n",
            "Epoch 109/300\n",
            "10/10 [==============================] - 0s 4ms/step - loss: 1.8820 - mae: 1.8820 - mse: 8.5065 - val_loss: 1.6016 - val_mae: 1.6016 - val_mse: 6.4304\n",
            "Epoch 110/300\n",
            "10/10 [==============================] - 0s 5ms/step - loss: 1.8807 - mae: 1.8807 - mse: 8.5129 - val_loss: 1.6035 - val_mae: 1.6035 - val_mse: 6.4394\n",
            "Epoch 111/300\n",
            "10/10 [==============================] - 0s 5ms/step - loss: 1.8794 - mae: 1.8794 - mse: 8.5216 - val_loss: 1.6054 - val_mae: 1.6054 - val_mse: 6.4491\n",
            "Epoch 112/300\n",
            "10/10 [==============================] - 0s 4ms/step - loss: 1.8782 - mae: 1.8782 - mse: 8.5325 - val_loss: 1.6073 - val_mae: 1.6073 - val_mse: 6.4594\n",
            "Epoch 113/300\n",
            "10/10 [==============================] - 0s 4ms/step - loss: 1.8771 - mae: 1.8771 - mse: 8.5400 - val_loss: 1.6097 - val_mae: 1.6097 - val_mse: 6.4704\n",
            "Epoch 114/300\n",
            "10/10 [==============================] - 0s 5ms/step - loss: 1.8770 - mae: 1.8770 - mse: 8.5515 - val_loss: 1.6121 - val_mae: 1.6121 - val_mse: 6.4794\n",
            "Epoch 115/300\n",
            "10/10 [==============================] - 0s 4ms/step - loss: 1.8763 - mae: 1.8763 - mse: 8.5532 - val_loss: 1.6126 - val_mae: 1.6126 - val_mse: 6.4811\n",
            "Epoch 116/300\n",
            "10/10 [==============================] - 0s 5ms/step - loss: 1.8761 - mae: 1.8761 - mse: 8.5540 - val_loss: 1.6130 - val_mae: 1.6130 - val_mse: 6.4822\n",
            "Epoch 117/300\n",
            "10/10 [==============================] - 0s 4ms/step - loss: 1.8759 - mae: 1.8759 - mse: 8.5551 - val_loss: 1.6137 - val_mae: 1.6137 - val_mse: 6.4847\n",
            "Epoch 118/300\n",
            "10/10 [==============================] - 0s 4ms/step - loss: 1.8759 - mae: 1.8759 - mse: 8.5599 - val_loss: 1.6151 - val_mae: 1.6151 - val_mse: 6.4901\n",
            "Epoch 119/300\n",
            "10/10 [==============================] - 0s 4ms/step - loss: 1.8756 - mae: 1.8756 - mse: 8.5630 - val_loss: 1.6160 - val_mae: 1.6160 - val_mse: 6.4936\n",
            "Epoch 120/300\n",
            "10/10 [==============================] - 0s 5ms/step - loss: 1.8755 - mae: 1.8755 - mse: 8.5655 - val_loss: 1.6171 - val_mae: 1.6171 - val_mse: 6.4979\n",
            "Epoch 121/300\n",
            "10/10 [==============================] - 0s 4ms/step - loss: 1.8754 - mae: 1.8754 - mse: 8.5684 - val_loss: 1.6172 - val_mae: 1.6172 - val_mse: 6.4981\n",
            "Epoch 122/300\n",
            "10/10 [==============================] - 0s 4ms/step - loss: 1.8756 - mae: 1.8756 - mse: 8.5745 - val_loss: 1.6196 - val_mae: 1.6196 - val_mse: 6.5079\n",
            "Epoch 123/300\n",
            "10/10 [==============================] - 0s 4ms/step - loss: 1.8749 - mae: 1.8749 - mse: 8.5787 - val_loss: 1.6205 - val_mae: 1.6205 - val_mse: 6.5117\n",
            "Epoch 124/300\n",
            "10/10 [==============================] - 0s 4ms/step - loss: 1.8747 - mae: 1.8747 - mse: 8.5816 - val_loss: 1.6212 - val_mae: 1.6212 - val_mse: 6.5142\n",
            "Epoch 125/300\n",
            "10/10 [==============================] - 0s 5ms/step - loss: 1.8746 - mae: 1.8746 - mse: 8.5848 - val_loss: 1.6223 - val_mae: 1.6223 - val_mse: 6.5191\n",
            "Epoch 126/300\n",
            "10/10 [==============================] - 0s 4ms/step - loss: 1.8744 - mae: 1.8744 - mse: 8.5885 - val_loss: 1.6234 - val_mae: 1.6234 - val_mse: 6.5238\n",
            "Epoch 127/300\n",
            "10/10 [==============================] - 0s 4ms/step - loss: 1.8745 - mae: 1.8745 - mse: 8.5910 - val_loss: 1.6232 - val_mae: 1.6232 - val_mse: 6.5225\n",
            "Epoch 128/300\n",
            "10/10 [==============================] - 0s 4ms/step - loss: 1.8743 - mae: 1.8743 - mse: 8.5893 - val_loss: 1.6232 - val_mae: 1.6232 - val_mse: 6.5224\n",
            "Epoch 129/300\n",
            "10/10 [==============================] - 0s 4ms/step - loss: 1.8744 - mae: 1.8744 - mse: 8.5898 - val_loss: 1.6234 - val_mae: 1.6234 - val_mse: 6.5226\n",
            "Epoch 130/300\n",
            "10/10 [==============================] - 0s 4ms/step - loss: 1.8742 - mae: 1.8742 - mse: 8.5880 - val_loss: 1.6223 - val_mae: 1.6223 - val_mse: 6.5179\n",
            "Epoch 131/300\n",
            "10/10 [==============================] - 0s 5ms/step - loss: 1.8744 - mae: 1.8744 - mse: 8.5842 - val_loss: 1.6220 - val_mae: 1.6220 - val_mse: 6.5160\n",
            "Epoch 132/300\n",
            "10/10 [==============================] - 0s 5ms/step - loss: 1.8746 - mae: 1.8746 - mse: 8.5905 - val_loss: 1.6237 - val_mae: 1.6237 - val_mse: 6.5230\n",
            "Epoch 133/300\n",
            "10/10 [==============================] - 0s 5ms/step - loss: 1.8742 - mae: 1.8742 - mse: 8.5889 - val_loss: 1.6228 - val_mae: 1.6228 - val_mse: 6.5194\n",
            "Epoch 134/300\n",
            "10/10 [==============================] - 0s 7ms/step - loss: 1.8741 - mae: 1.8741 - mse: 8.5866 - val_loss: 1.6228 - val_mae: 1.6228 - val_mse: 6.5189\n",
            "Epoch 135/300\n",
            "10/10 [==============================] - 0s 4ms/step - loss: 1.8742 - mae: 1.8742 - mse: 8.5885 - val_loss: 1.6233 - val_mae: 1.6233 - val_mse: 6.5207\n",
            "Epoch 136/300\n",
            "10/10 [==============================] - 0s 5ms/step - loss: 1.8740 - mae: 1.8740 - mse: 8.5869 - val_loss: 1.6224 - val_mae: 1.6224 - val_mse: 6.5167\n",
            "Epoch 137/300\n",
            "10/10 [==============================] - 0s 5ms/step - loss: 1.8741 - mae: 1.8741 - mse: 8.5858 - val_loss: 1.6225 - val_mae: 1.6225 - val_mse: 6.5168\n",
            "Epoch 138/300\n",
            "10/10 [==============================] - 0s 4ms/step - loss: 1.8742 - mae: 1.8742 - mse: 8.5875 - val_loss: 1.6236 - val_mae: 1.6236 - val_mse: 6.5211\n",
            "Epoch 139/300\n",
            "10/10 [==============================] - 0s 5ms/step - loss: 1.8739 - mae: 1.8739 - mse: 8.5864 - val_loss: 1.6226 - val_mae: 1.6226 - val_mse: 6.5165\n",
            "Epoch 140/300\n",
            "10/10 [==============================] - 0s 5ms/step - loss: 1.8739 - mae: 1.8739 - mse: 8.5836 - val_loss: 1.6221 - val_mae: 1.6221 - val_mse: 6.5141\n",
            "Epoch 141/300\n",
            "10/10 [==============================] - 0s 4ms/step - loss: 1.8740 - mae: 1.8740 - mse: 8.5849 - val_loss: 1.6229 - val_mae: 1.6229 - val_mse: 6.5174\n",
            "Epoch 142/300\n",
            "10/10 [==============================] - 0s 4ms/step - loss: 1.8738 - mae: 1.8738 - mse: 8.5831 - val_loss: 1.6221 - val_mae: 1.6221 - val_mse: 6.5135\n",
            "Epoch 143/300\n",
            "10/10 [==============================] - 0s 4ms/step - loss: 1.8740 - mae: 1.8740 - mse: 8.5842 - val_loss: 1.6228 - val_mae: 1.6228 - val_mse: 6.5164\n",
            "Epoch 144/300\n",
            "10/10 [==============================] - 0s 4ms/step - loss: 1.8738 - mae: 1.8738 - mse: 8.5847 - val_loss: 1.6226 - val_mae: 1.6226 - val_mse: 6.5153\n",
            "Epoch 145/300\n",
            "10/10 [==============================] - 0s 4ms/step - loss: 1.8738 - mae: 1.8738 - mse: 8.5815 - val_loss: 1.6219 - val_mae: 1.6219 - val_mse: 6.5117\n",
            "Epoch 146/300\n",
            "10/10 [==============================] - 0s 4ms/step - loss: 1.8738 - mae: 1.8738 - mse: 8.5800 - val_loss: 1.6221 - val_mae: 1.6221 - val_mse: 6.5121\n",
            "Epoch 147/300\n",
            "10/10 [==============================] - 0s 5ms/step - loss: 1.8738 - mae: 1.8738 - mse: 8.5847 - val_loss: 1.6232 - val_mae: 1.6232 - val_mse: 6.5166\n",
            "Epoch 148/300\n",
            "10/10 [==============================] - 0s 5ms/step - loss: 1.8737 - mae: 1.8737 - mse: 8.5831 - val_loss: 1.6223 - val_mae: 1.6223 - val_mse: 6.5125\n",
            "Epoch 149/300\n",
            "10/10 [==============================] - 0s 4ms/step - loss: 1.8741 - mae: 1.8741 - mse: 8.5872 - val_loss: 1.6240 - val_mae: 1.6240 - val_mse: 6.5194\n",
            "Epoch 150/300\n",
            "10/10 [==============================] - 0s 4ms/step - loss: 1.8737 - mae: 1.8737 - mse: 8.5846 - val_loss: 1.6220 - val_mae: 1.6220 - val_mse: 6.5109\n",
            "Epoch 151/300\n",
            "10/10 [==============================] - 0s 4ms/step - loss: 1.8736 - mae: 1.8736 - mse: 8.5788 - val_loss: 1.6221 - val_mae: 1.6221 - val_mse: 6.5107\n",
            "Epoch 152/300\n",
            "10/10 [==============================] - 0s 4ms/step - loss: 1.8738 - mae: 1.8738 - mse: 8.5829 - val_loss: 1.6232 - val_mae: 1.6232 - val_mse: 6.5153\n",
            "Epoch 153/300\n",
            "10/10 [==============================] - 0s 4ms/step - loss: 1.8734 - mae: 1.8734 - mse: 8.5812 - val_loss: 1.6223 - val_mae: 1.6223 - val_mse: 6.5111\n",
            "Epoch 154/300\n",
            "10/10 [==============================] - 0s 5ms/step - loss: 1.8734 - mae: 1.8734 - mse: 8.5789 - val_loss: 1.6218 - val_mae: 1.6218 - val_mse: 6.5088\n",
            "Epoch 155/300\n",
            "10/10 [==============================] - 0s 5ms/step - loss: 1.8735 - mae: 1.8735 - mse: 8.5808 - val_loss: 1.6225 - val_mae: 1.6225 - val_mse: 6.5115\n",
            "Epoch 156/300\n",
            "10/10 [==============================] - 0s 4ms/step - loss: 1.8734 - mae: 1.8734 - mse: 8.5795 - val_loss: 1.6216 - val_mae: 1.6216 - val_mse: 6.5070\n",
            "Epoch 157/300\n",
            "10/10 [==============================] - 0s 6ms/step - loss: 1.8736 - mae: 1.8736 - mse: 8.5796 - val_loss: 1.6221 - val_mae: 1.6221 - val_mse: 6.5092\n",
            "Epoch 158/300\n",
            "10/10 [==============================] - 0s 4ms/step - loss: 1.8732 - mae: 1.8732 - mse: 8.5797 - val_loss: 1.6226 - val_mae: 1.6226 - val_mse: 6.5109\n",
            "Epoch 159/300\n",
            "10/10 [==============================] - 0s 4ms/step - loss: 1.8732 - mae: 1.8732 - mse: 8.5784 - val_loss: 1.6221 - val_mae: 1.6221 - val_mse: 6.5086\n",
            "Epoch 160/300\n",
            "10/10 [==============================] - 0s 5ms/step - loss: 1.8732 - mae: 1.8732 - mse: 8.5795 - val_loss: 1.6230 - val_mae: 1.6230 - val_mse: 6.5119\n",
            "Epoch 161/300\n",
            "10/10 [==============================] - 0s 4ms/step - loss: 1.8734 - mae: 1.8734 - mse: 8.5773 - val_loss: 1.6210 - val_mae: 1.6210 - val_mse: 6.5027\n",
            "Epoch 162/300\n",
            "10/10 [==============================] - 0s 4ms/step - loss: 1.8731 - mae: 1.8731 - mse: 8.5736 - val_loss: 1.6216 - val_mae: 1.6216 - val_mse: 6.5054\n",
            "Epoch 163/300\n",
            "10/10 [==============================] - 0s 5ms/step - loss: 1.8736 - mae: 1.8736 - mse: 8.5810 - val_loss: 1.6237 - val_mae: 1.6237 - val_mse: 6.5135\n",
            "Epoch 164/300\n",
            "10/10 [==============================] - 0s 4ms/step - loss: 1.8730 - mae: 1.8730 - mse: 8.5798 - val_loss: 1.6223 - val_mae: 1.6223 - val_mse: 6.5077\n",
            "Epoch 165/300\n",
            "10/10 [==============================] - 0s 5ms/step - loss: 1.8729 - mae: 1.8729 - mse: 8.5755 - val_loss: 1.6214 - val_mae: 1.6214 - val_mse: 6.5035\n",
            "Epoch 166/300\n",
            "10/10 [==============================] - 0s 4ms/step - loss: 1.8730 - mae: 1.8730 - mse: 8.5745 - val_loss: 1.6221 - val_mae: 1.6221 - val_mse: 6.5060\n",
            "Epoch 167/300\n",
            "10/10 [==============================] - 0s 5ms/step - loss: 1.8730 - mae: 1.8730 - mse: 8.5748 - val_loss: 1.6215 - val_mae: 1.6215 - val_mse: 6.5032\n",
            "Epoch 168/300\n",
            "10/10 [==============================] - 0s 4ms/step - loss: 1.8730 - mae: 1.8730 - mse: 8.5775 - val_loss: 1.6229 - val_mae: 1.6229 - val_mse: 6.5088\n",
            "Epoch 169/300\n",
            "10/10 [==============================] - 0s 4ms/step - loss: 1.8727 - mae: 1.8727 - mse: 8.5762 - val_loss: 1.6215 - val_mae: 1.6215 - val_mse: 6.5023\n",
            "Epoch 170/300\n",
            "10/10 [==============================] - 0s 4ms/step - loss: 1.8729 - mae: 1.8729 - mse: 8.5708 - val_loss: 1.6205 - val_mae: 1.6205 - val_mse: 6.4977\n",
            "Epoch 171/300\n",
            "10/10 [==============================] - 0s 4ms/step - loss: 1.8727 - mae: 1.8727 - mse: 8.5698 - val_loss: 1.6212 - val_mae: 1.6212 - val_mse: 6.5007\n",
            "Epoch 172/300\n",
            "10/10 [==============================] - 0s 4ms/step - loss: 1.8725 - mae: 1.8725 - mse: 8.5721 - val_loss: 1.6224 - val_mae: 1.6224 - val_mse: 6.5053\n",
            "Epoch 173/300\n",
            "10/10 [==============================] - 0s 4ms/step - loss: 1.8727 - mae: 1.8727 - mse: 8.5775 - val_loss: 1.6235 - val_mae: 1.6235 - val_mse: 6.5096\n",
            "Epoch 174/300\n",
            "10/10 [==============================] - 0s 4ms/step - loss: 1.8727 - mae: 1.8727 - mse: 8.5785 - val_loss: 1.6228 - val_mae: 1.6228 - val_mse: 6.5062\n",
            "Epoch 175/300\n",
            "10/10 [==============================] - 0s 4ms/step - loss: 1.8726 - mae: 1.8726 - mse: 8.5747 - val_loss: 1.6212 - val_mae: 1.6212 - val_mse: 6.4994\n",
            "Epoch 176/300\n",
            "10/10 [==============================] - 0s 4ms/step - loss: 1.8725 - mae: 1.8725 - mse: 8.5673 - val_loss: 1.6203 - val_mae: 1.6203 - val_mse: 6.4947\n",
            "Epoch 177/300\n",
            "10/10 [==============================] - 0s 4ms/step - loss: 1.8725 - mae: 1.8725 - mse: 8.5690 - val_loss: 1.6215 - val_mae: 1.6215 - val_mse: 6.4999\n",
            "Epoch 178/300\n",
            "10/10 [==============================] - 0s 4ms/step - loss: 1.8724 - mae: 1.8724 - mse: 8.5720 - val_loss: 1.6230 - val_mae: 1.6230 - val_mse: 6.5057\n",
            "Epoch 179/300\n",
            "10/10 [==============================] - 0s 5ms/step - loss: 1.8724 - mae: 1.8724 - mse: 8.5739 - val_loss: 1.6216 - val_mae: 1.6216 - val_mse: 6.4996\n",
            "Epoch 180/300\n",
            "10/10 [==============================] - 0s 4ms/step - loss: 1.8723 - mae: 1.8723 - mse: 8.5708 - val_loss: 1.6218 - val_mae: 1.6218 - val_mse: 6.5001\n",
            "Epoch 181/300\n",
            "10/10 [==============================] - 0s 5ms/step - loss: 1.8723 - mae: 1.8723 - mse: 8.5672 - val_loss: 1.6204 - val_mae: 1.6204 - val_mse: 6.4936\n",
            "Epoch 182/300\n",
            "10/10 [==============================] - 0s 4ms/step - loss: 1.8724 - mae: 1.8724 - mse: 8.5690 - val_loss: 1.6219 - val_mae: 1.6219 - val_mse: 6.4997\n",
            "Epoch 183/300\n",
            "10/10 [==============================] - 0s 4ms/step - loss: 1.8721 - mae: 1.8721 - mse: 8.5689 - val_loss: 1.6214 - val_mae: 1.6214 - val_mse: 6.4975\n",
            "Epoch 184/300\n",
            "10/10 [==============================] - 0s 4ms/step - loss: 1.8720 - mae: 1.8720 - mse: 8.5680 - val_loss: 1.6215 - val_mae: 1.6215 - val_mse: 6.4977\n",
            "Epoch 185/300\n",
            "10/10 [==============================] - 0s 6ms/step - loss: 1.8720 - mae: 1.8720 - mse: 8.5694 - val_loss: 1.6215 - val_mae: 1.6215 - val_mse: 6.4973\n",
            "Epoch 186/300\n",
            "10/10 [==============================] - 0s 5ms/step - loss: 1.8719 - mae: 1.8719 - mse: 8.5681 - val_loss: 1.6214 - val_mae: 1.6214 - val_mse: 6.4964\n",
            "Epoch 187/300\n",
            "10/10 [==============================] - 0s 5ms/step - loss: 1.8719 - mae: 1.8719 - mse: 8.5671 - val_loss: 1.6214 - val_mae: 1.6214 - val_mse: 6.4959\n",
            "Epoch 188/300\n",
            "10/10 [==============================] - 0s 5ms/step - loss: 1.8719 - mae: 1.8719 - mse: 8.5677 - val_loss: 1.6213 - val_mae: 1.6213 - val_mse: 6.4954\n",
            "Epoch 189/300\n",
            "10/10 [==============================] - 0s 5ms/step - loss: 1.8717 - mae: 1.8717 - mse: 8.5663 - val_loss: 1.6209 - val_mae: 1.6209 - val_mse: 6.4932\n",
            "Epoch 190/300\n",
            "10/10 [==============================] - 0s 4ms/step - loss: 1.8719 - mae: 1.8719 - mse: 8.5627 - val_loss: 1.6204 - val_mae: 1.6204 - val_mse: 6.4904\n",
            "Epoch 191/300\n",
            "10/10 [==============================] - 0s 4ms/step - loss: 1.8717 - mae: 1.8717 - mse: 8.5625 - val_loss: 1.6206 - val_mae: 1.6206 - val_mse: 6.4909\n",
            "Epoch 192/300\n",
            "10/10 [==============================] - 0s 5ms/step - loss: 1.8717 - mae: 1.8717 - mse: 8.5648 - val_loss: 1.6213 - val_mae: 1.6213 - val_mse: 6.4940\n",
            "Epoch 193/300\n",
            "10/10 [==============================] - 0s 5ms/step - loss: 1.8716 - mae: 1.8716 - mse: 8.5650 - val_loss: 1.6207 - val_mae: 1.6207 - val_mse: 6.4910\n",
            "Epoch 194/300\n",
            "10/10 [==============================] - 0s 4ms/step - loss: 1.8719 - mae: 1.8719 - mse: 8.5671 - val_loss: 1.6224 - val_mae: 1.6224 - val_mse: 6.4975\n",
            "Epoch 195/300\n",
            "10/10 [==============================] - 0s 5ms/step - loss: 1.8717 - mae: 1.8717 - mse: 8.5633 - val_loss: 1.6202 - val_mae: 1.6202 - val_mse: 6.4877\n",
            "Epoch 196/300\n",
            "10/10 [==============================] - 0s 4ms/step - loss: 1.8715 - mae: 1.8715 - mse: 8.5594 - val_loss: 1.6202 - val_mae: 1.6202 - val_mse: 6.4875\n",
            "Epoch 197/300\n",
            "10/10 [==============================] - 0s 4ms/step - loss: 1.8714 - mae: 1.8714 - mse: 8.5622 - val_loss: 1.6216 - val_mae: 1.6216 - val_mse: 6.4933\n",
            "Epoch 198/300\n",
            "10/10 [==============================] - 0s 4ms/step - loss: 1.8713 - mae: 1.8713 - mse: 8.5630 - val_loss: 1.6207 - val_mae: 1.6207 - val_mse: 6.4891\n",
            "Epoch 199/300\n",
            "10/10 [==============================] - 0s 6ms/step - loss: 1.8712 - mae: 1.8712 - mse: 8.5608 - val_loss: 1.6209 - val_mae: 1.6209 - val_mse: 6.4896\n",
            "Epoch 200/300\n",
            "10/10 [==============================] - 0s 4ms/step - loss: 1.8715 - mae: 1.8715 - mse: 8.5640 - val_loss: 1.6215 - val_mae: 1.6215 - val_mse: 6.4915\n",
            "Epoch 201/300\n",
            "10/10 [==============================] - 0s 4ms/step - loss: 1.8713 - mae: 1.8713 - mse: 8.5619 - val_loss: 1.6209 - val_mae: 1.6209 - val_mse: 6.4889\n",
            "Epoch 202/300\n",
            "10/10 [==============================] - 0s 6ms/step - loss: 1.8710 - mae: 1.8710 - mse: 8.5603 - val_loss: 1.6205 - val_mae: 1.6205 - val_mse: 6.4868\n",
            "Epoch 203/300\n",
            "10/10 [==============================] - 0s 5ms/step - loss: 1.8711 - mae: 1.8711 - mse: 8.5592 - val_loss: 1.6205 - val_mae: 1.6205 - val_mse: 6.4860\n",
            "Epoch 204/300\n",
            "10/10 [==============================] - 0s 4ms/step - loss: 1.8712 - mae: 1.8712 - mse: 8.5605 - val_loss: 1.6203 - val_mae: 1.6203 - val_mse: 6.4850\n",
            "Epoch 205/300\n",
            "10/10 [==============================] - 0s 5ms/step - loss: 1.8712 - mae: 1.8712 - mse: 8.5588 - val_loss: 1.6215 - val_mae: 1.6215 - val_mse: 6.4896\n",
            "Epoch 206/300\n",
            "10/10 [==============================] - 0s 5ms/step - loss: 1.8709 - mae: 1.8709 - mse: 8.5599 - val_loss: 1.6206 - val_mae: 1.6206 - val_mse: 6.4857\n",
            "Epoch 207/300\n",
            "10/10 [==============================] - 0s 5ms/step - loss: 1.8711 - mae: 1.8711 - mse: 8.5553 - val_loss: 1.6197 - val_mae: 1.6197 - val_mse: 6.4810\n",
            "Epoch 208/300\n",
            "10/10 [==============================] - 0s 4ms/step - loss: 1.8708 - mae: 1.8708 - mse: 8.5555 - val_loss: 1.6206 - val_mae: 1.6206 - val_mse: 6.4847\n",
            "Epoch 209/300\n",
            "10/10 [==============================] - 0s 4ms/step - loss: 1.8707 - mae: 1.8707 - mse: 8.5590 - val_loss: 1.6215 - val_mae: 1.6215 - val_mse: 6.4879\n",
            "Epoch 210/300\n",
            "10/10 [==============================] - 0s 4ms/step - loss: 1.8708 - mae: 1.8708 - mse: 8.5586 - val_loss: 1.6206 - val_mae: 1.6206 - val_mse: 6.4840\n",
            "Epoch 211/300\n",
            "10/10 [==============================] - 0s 5ms/step - loss: 1.8708 - mae: 1.8708 - mse: 8.5534 - val_loss: 1.6191 - val_mae: 1.6191 - val_mse: 6.4766\n",
            "Epoch 212/300\n",
            "10/10 [==============================] - 0s 5ms/step - loss: 1.8708 - mae: 1.8708 - mse: 8.5544 - val_loss: 1.6209 - val_mae: 1.6209 - val_mse: 6.4843\n",
            "Epoch 213/300\n",
            "10/10 [==============================] - 0s 4ms/step - loss: 1.8705 - mae: 1.8705 - mse: 8.5563 - val_loss: 1.6204 - val_mae: 1.6204 - val_mse: 6.4819\n",
            "Epoch 214/300\n",
            "10/10 [==============================] - 0s 4ms/step - loss: 1.8706 - mae: 1.8706 - mse: 8.5545 - val_loss: 1.6209 - val_mae: 1.6209 - val_mse: 6.4834\n",
            "Epoch 215/300\n",
            "10/10 [==============================] - 0s 4ms/step - loss: 1.8704 - mae: 1.8704 - mse: 8.5556 - val_loss: 1.6204 - val_mae: 1.6204 - val_mse: 6.4810\n",
            "Epoch 216/300\n",
            "10/10 [==============================] - 0s 5ms/step - loss: 1.8703 - mae: 1.8703 - mse: 8.5537 - val_loss: 1.6203 - val_mae: 1.6203 - val_mse: 6.4803\n",
            "Epoch 217/300\n",
            "10/10 [==============================] - 0s 5ms/step - loss: 1.8703 - mae: 1.8703 - mse: 8.5544 - val_loss: 1.6202 - val_mae: 1.6202 - val_mse: 6.4795\n",
            "Epoch 218/300\n",
            "10/10 [==============================] - 0s 5ms/step - loss: 1.8703 - mae: 1.8703 - mse: 8.5502 - val_loss: 1.6195 - val_mae: 1.6195 - val_mse: 6.4759\n",
            "Epoch 219/300\n",
            "10/10 [==============================] - 0s 5ms/step - loss: 1.8702 - mae: 1.8702 - mse: 8.5511 - val_loss: 1.6205 - val_mae: 1.6205 - val_mse: 6.4798\n",
            "Epoch 220/300\n",
            "10/10 [==============================] - 0s 4ms/step - loss: 1.8702 - mae: 1.8702 - mse: 8.5531 - val_loss: 1.6205 - val_mae: 1.6205 - val_mse: 6.4795\n",
            "Epoch 221/300\n",
            "10/10 [==============================] - 0s 4ms/step - loss: 1.8701 - mae: 1.8701 - mse: 8.5513 - val_loss: 1.6199 - val_mae: 1.6199 - val_mse: 6.4767\n",
            "Epoch 222/300\n",
            "10/10 [==============================] - 0s 5ms/step - loss: 1.8704 - mae: 1.8704 - mse: 8.5533 - val_loss: 1.6209 - val_mae: 1.6209 - val_mse: 6.4803\n",
            "Epoch 223/300\n",
            "10/10 [==============================] - 0s 4ms/step - loss: 1.8701 - mae: 1.8701 - mse: 8.5498 - val_loss: 1.6188 - val_mae: 1.6188 - val_mse: 6.4706\n",
            "Epoch 224/300\n",
            "10/10 [==============================] - 0s 4ms/step - loss: 1.8703 - mae: 1.8703 - mse: 8.5443 - val_loss: 1.6187 - val_mae: 1.6187 - val_mse: 6.4697\n",
            "Epoch 225/300\n",
            "10/10 [==============================] - 0s 4ms/step - loss: 1.8702 - mae: 1.8702 - mse: 8.5497 - val_loss: 1.6209 - val_mae: 1.6209 - val_mse: 6.4790\n",
            "Epoch 226/300\n",
            "10/10 [==============================] - 0s 4ms/step - loss: 1.8699 - mae: 1.8699 - mse: 8.5506 - val_loss: 1.6197 - val_mae: 1.6197 - val_mse: 6.4738\n",
            "Epoch 227/300\n",
            "10/10 [==============================] - 0s 5ms/step - loss: 1.8699 - mae: 1.8699 - mse: 8.5496 - val_loss: 1.6198 - val_mae: 1.6198 - val_mse: 6.4738\n",
            "Epoch 228/300\n",
            "10/10 [==============================] - 0s 4ms/step - loss: 1.8697 - mae: 1.8697 - mse: 8.5450 - val_loss: 1.6187 - val_mae: 1.6187 - val_mse: 6.4684\n",
            "Epoch 229/300\n",
            "10/10 [==============================] - 0s 4ms/step - loss: 1.8698 - mae: 1.8698 - mse: 8.5428 - val_loss: 1.6190 - val_mae: 1.6190 - val_mse: 6.4692\n",
            "Epoch 230/300\n",
            "10/10 [==============================] - 0s 4ms/step - loss: 1.8700 - mae: 1.8700 - mse: 8.5493 - val_loss: 1.6211 - val_mae: 1.6211 - val_mse: 6.4774\n",
            "Epoch 231/300\n",
            "10/10 [==============================] - 0s 4ms/step - loss: 1.8696 - mae: 1.8696 - mse: 8.5463 - val_loss: 1.6190 - val_mae: 1.6190 - val_mse: 6.4685\n",
            "Epoch 232/300\n",
            "10/10 [==============================] - 0s 5ms/step - loss: 1.8696 - mae: 1.8696 - mse: 8.5446 - val_loss: 1.6194 - val_mae: 1.6194 - val_mse: 6.4697\n",
            "Epoch 233/300\n",
            "10/10 [==============================] - 0s 4ms/step - loss: 1.8696 - mae: 1.8696 - mse: 8.5478 - val_loss: 1.6207 - val_mae: 1.6207 - val_mse: 6.4746\n",
            "Epoch 234/300\n",
            "10/10 [==============================] - 0s 4ms/step - loss: 1.8693 - mae: 1.8693 - mse: 8.5457 - val_loss: 1.6193 - val_mae: 1.6193 - val_mse: 6.4682\n",
            "Epoch 235/300\n",
            "10/10 [==============================] - 0s 4ms/step - loss: 1.8693 - mae: 1.8693 - mse: 8.5443 - val_loss: 1.6192 - val_mae: 1.6192 - val_mse: 6.4675\n",
            "Epoch 236/300\n",
            "10/10 [==============================] - 0s 4ms/step - loss: 1.8695 - mae: 1.8695 - mse: 8.5392 - val_loss: 1.6176 - val_mae: 1.6176 - val_mse: 6.4600\n",
            "Epoch 237/300\n",
            "10/10 [==============================] - 0s 4ms/step - loss: 1.8694 - mae: 1.8694 - mse: 8.5395 - val_loss: 1.6197 - val_mae: 1.6197 - val_mse: 6.4688\n",
            "Epoch 238/300\n",
            "10/10 [==============================] - 0s 4ms/step - loss: 1.8694 - mae: 1.8694 - mse: 8.5425 - val_loss: 1.6192 - val_mae: 1.6192 - val_mse: 6.4663\n",
            "Epoch 239/300\n",
            "10/10 [==============================] - 0s 6ms/step - loss: 1.8691 - mae: 1.8691 - mse: 8.5448 - val_loss: 1.6205 - val_mae: 1.6205 - val_mse: 6.4714\n",
            "Epoch 240/300\n",
            "10/10 [==============================] - 0s 4ms/step - loss: 1.8692 - mae: 1.8692 - mse: 8.5464 - val_loss: 1.6200 - val_mae: 1.6200 - val_mse: 6.4689\n",
            "Epoch 241/300\n",
            "10/10 [==============================] - 0s 4ms/step - loss: 1.8690 - mae: 1.8690 - mse: 8.5410 - val_loss: 1.6186 - val_mae: 1.6186 - val_mse: 6.4621\n",
            "Epoch 242/300\n",
            "10/10 [==============================] - 0s 4ms/step - loss: 1.8689 - mae: 1.8689 - mse: 8.5411 - val_loss: 1.6202 - val_mae: 1.6202 - val_mse: 6.4688\n",
            "Epoch 243/300\n",
            "10/10 [==============================] - 0s 5ms/step - loss: 1.8689 - mae: 1.8689 - mse: 8.5438 - val_loss: 1.6193 - val_mae: 1.6193 - val_mse: 6.4647\n",
            "Epoch 244/300\n",
            "10/10 [==============================] - 0s 5ms/step - loss: 1.8687 - mae: 1.8687 - mse: 8.5407 - val_loss: 1.6190 - val_mae: 1.6190 - val_mse: 6.4626\n",
            "Epoch 245/300\n",
            "10/10 [==============================] - 0s 5ms/step - loss: 1.8688 - mae: 1.8688 - mse: 8.5361 - val_loss: 1.6180 - val_mae: 1.6180 - val_mse: 6.4579\n",
            "Epoch 246/300\n",
            "10/10 [==============================] - 0s 4ms/step - loss: 1.8686 - mae: 1.8686 - mse: 8.5365 - val_loss: 1.6193 - val_mae: 1.6193 - val_mse: 6.4631\n",
            "Epoch 247/300\n",
            "10/10 [==============================] - 0s 4ms/step - loss: 1.8686 - mae: 1.8686 - mse: 8.5392 - val_loss: 1.6191 - val_mae: 1.6191 - val_mse: 6.4620\n",
            "Epoch 248/300\n",
            "10/10 [==============================] - 0s 4ms/step - loss: 1.8687 - mae: 1.8687 - mse: 8.5403 - val_loss: 1.6192 - val_mae: 1.6192 - val_mse: 6.4619\n",
            "Epoch 249/300\n",
            "10/10 [==============================] - 0s 4ms/step - loss: 1.8685 - mae: 1.8685 - mse: 8.5344 - val_loss: 1.6181 - val_mae: 1.6181 - val_mse: 6.4566\n",
            "Epoch 250/300\n",
            "10/10 [==============================] - 0s 5ms/step - loss: 1.8684 - mae: 1.8684 - mse: 8.5343 - val_loss: 1.6194 - val_mae: 1.6194 - val_mse: 6.4618\n",
            "Epoch 251/300\n",
            "10/10 [==============================] - 0s 4ms/step - loss: 1.8684 - mae: 1.8684 - mse: 8.5397 - val_loss: 1.6196 - val_mae: 1.6196 - val_mse: 6.4620\n",
            "Epoch 252/300\n",
            "10/10 [==============================] - 0s 5ms/step - loss: 1.8681 - mae: 1.8681 - mse: 8.5357 - val_loss: 1.6182 - val_mae: 1.6182 - val_mse: 6.4557\n",
            "Epoch 253/300\n",
            "10/10 [==============================] - 0s 4ms/step - loss: 1.8682 - mae: 1.8682 - mse: 8.5325 - val_loss: 1.6184 - val_mae: 1.6184 - val_mse: 6.4561\n",
            "Epoch 254/300\n",
            "10/10 [==============================] - 0s 5ms/step - loss: 1.8682 - mae: 1.8682 - mse: 8.5351 - val_loss: 1.6194 - val_mae: 1.6194 - val_mse: 6.4599\n",
            "Epoch 255/300\n",
            "10/10 [==============================] - 0s 5ms/step - loss: 1.8683 - mae: 1.8683 - mse: 8.5306 - val_loss: 1.6171 - val_mae: 1.6171 - val_mse: 6.4492\n",
            "Epoch 256/300\n",
            "10/10 [==============================] - 0s 5ms/step - loss: 1.8681 - mae: 1.8681 - mse: 8.5302 - val_loss: 1.6189 - val_mae: 1.6189 - val_mse: 6.4568\n",
            "Epoch 257/300\n",
            "10/10 [==============================] - 0s 4ms/step - loss: 1.8681 - mae: 1.8681 - mse: 8.5364 - val_loss: 1.6197 - val_mae: 1.6197 - val_mse: 6.4599\n",
            "Epoch 258/300\n",
            "10/10 [==============================] - 0s 4ms/step - loss: 1.8680 - mae: 1.8680 - mse: 8.5323 - val_loss: 1.6179 - val_mae: 1.6179 - val_mse: 6.4514\n",
            "Epoch 259/300\n",
            "10/10 [==============================] - 0s 6ms/step - loss: 1.8678 - mae: 1.8678 - mse: 8.5299 - val_loss: 1.6187 - val_mae: 1.6187 - val_mse: 6.4547\n",
            "Epoch 260/300\n",
            "10/10 [==============================] - 0s 4ms/step - loss: 1.8679 - mae: 1.8679 - mse: 8.5302 - val_loss: 1.6182 - val_mae: 1.6182 - val_mse: 6.4522\n",
            "Epoch 261/300\n",
            "10/10 [==============================] - 0s 5ms/step - loss: 1.8679 - mae: 1.8679 - mse: 8.5343 - val_loss: 1.6201 - val_mae: 1.6201 - val_mse: 6.4596\n",
            "Epoch 262/300\n",
            "10/10 [==============================] - 0s 4ms/step - loss: 1.8677 - mae: 1.8677 - mse: 8.5332 - val_loss: 1.6183 - val_mae: 1.6183 - val_mse: 6.4515\n",
            "Epoch 263/300\n",
            "10/10 [==============================] - 0s 5ms/step - loss: 1.8675 - mae: 1.8675 - mse: 8.5270 - val_loss: 1.6175 - val_mae: 1.6175 - val_mse: 6.4474\n",
            "Epoch 264/300\n",
            "10/10 [==============================] - 0s 4ms/step - loss: 1.8677 - mae: 1.8677 - mse: 8.5290 - val_loss: 1.6187 - val_mae: 1.6187 - val_mse: 6.4521\n",
            "Epoch 265/300\n",
            "10/10 [==============================] - 0s 4ms/step - loss: 1.8680 - mae: 1.8680 - mse: 8.5248 - val_loss: 1.6164 - val_mae: 1.6164 - val_mse: 6.4415\n",
            "Epoch 266/300\n",
            "10/10 [==============================] - 0s 6ms/step - loss: 1.8674 - mae: 1.8674 - mse: 8.5223 - val_loss: 1.6176 - val_mae: 1.6176 - val_mse: 6.4466\n",
            "Epoch 267/300\n",
            "10/10 [==============================] - 0s 5ms/step - loss: 1.8673 - mae: 1.8673 - mse: 8.5300 - val_loss: 1.6196 - val_mae: 1.6196 - val_mse: 6.4545\n",
            "Epoch 268/300\n",
            "10/10 [==============================] - 0s 5ms/step - loss: 1.8672 - mae: 1.8672 - mse: 8.5295 - val_loss: 1.6185 - val_mae: 1.6185 - val_mse: 6.4497\n",
            "Epoch 269/300\n",
            "10/10 [==============================] - 0s 5ms/step - loss: 1.8672 - mae: 1.8672 - mse: 8.5263 - val_loss: 1.6167 - val_mae: 1.6167 - val_mse: 6.4411\n",
            "Epoch 270/300\n",
            "10/10 [==============================] - 0s 5ms/step - loss: 1.8673 - mae: 1.8673 - mse: 8.5170 - val_loss: 1.6156 - val_mae: 1.6156 - val_mse: 6.4359\n",
            "Epoch 271/300\n",
            "10/10 [==============================] - 0s 7ms/step - loss: 1.8673 - mae: 1.8673 - mse: 8.5147 - val_loss: 1.6158 - val_mae: 1.6158 - val_mse: 6.4363\n",
            "Epoch 272/300\n",
            "10/10 [==============================] - 0s 5ms/step - loss: 1.8670 - mae: 1.8670 - mse: 8.5185 - val_loss: 1.6176 - val_mae: 1.6176 - val_mse: 6.4435\n",
            "Epoch 273/300\n",
            "10/10 [==============================] - 0s 4ms/step - loss: 1.8676 - mae: 1.8676 - mse: 8.5322 - val_loss: 1.6213 - val_mae: 1.6213 - val_mse: 6.4585\n",
            "Epoch 274/300\n",
            "10/10 [==============================] - 0s 5ms/step - loss: 1.8672 - mae: 1.8672 - mse: 8.5348 - val_loss: 1.6208 - val_mae: 1.6208 - val_mse: 6.4558\n",
            "Epoch 275/300\n",
            "10/10 [==============================] - 0s 4ms/step - loss: 1.8666 - mae: 1.8666 - mse: 8.5270 - val_loss: 1.6174 - val_mae: 1.6174 - val_mse: 6.4414\n",
            "Epoch 276/300\n",
            "10/10 [==============================] - 0s 4ms/step - loss: 1.8667 - mae: 1.8667 - mse: 8.5182 - val_loss: 1.6161 - val_mae: 1.6161 - val_mse: 6.4353\n",
            "Epoch 277/300\n",
            "10/10 [==============================] - 0s 7ms/step - loss: 1.8667 - mae: 1.8667 - mse: 8.5153 - val_loss: 1.6169 - val_mae: 1.6169 - val_mse: 6.4384\n",
            "Epoch 278/300\n",
            "10/10 [==============================] - 0s 7ms/step - loss: 1.8666 - mae: 1.8666 - mse: 8.5175 - val_loss: 1.6172 - val_mae: 1.6172 - val_mse: 6.4391\n",
            "Epoch 279/300\n",
            "10/10 [==============================] - 0s 7ms/step - loss: 1.8669 - mae: 1.8669 - mse: 8.5235 - val_loss: 1.6200 - val_mae: 1.6200 - val_mse: 6.4502\n",
            "Epoch 280/300\n",
            "10/10 [==============================] - 0s 6ms/step - loss: 1.8665 - mae: 1.8665 - mse: 8.5253 - val_loss: 1.6172 - val_mae: 1.6172 - val_mse: 6.4382\n",
            "Epoch 281/300\n",
            "10/10 [==============================] - 0s 7ms/step - loss: 1.8663 - mae: 1.8663 - mse: 8.5156 - val_loss: 1.6167 - val_mae: 1.6167 - val_mse: 6.4355\n",
            "Epoch 282/300\n",
            "10/10 [==============================] - 0s 5ms/step - loss: 1.8666 - mae: 1.8666 - mse: 8.5201 - val_loss: 1.6188 - val_mae: 1.6188 - val_mse: 6.4438\n",
            "Epoch 283/300\n",
            "10/10 [==============================] - 0s 5ms/step - loss: 1.8664 - mae: 1.8664 - mse: 8.5188 - val_loss: 1.6166 - val_mae: 1.6166 - val_mse: 6.4340\n",
            "Epoch 284/300\n",
            "10/10 [==============================] - 0s 5ms/step - loss: 1.8661 - mae: 1.8661 - mse: 8.5151 - val_loss: 1.6172 - val_mae: 1.6172 - val_mse: 6.4360\n",
            "Epoch 285/300\n",
            "10/10 [==============================] - 0s 4ms/step - loss: 1.8659 - mae: 1.8659 - mse: 8.5166 - val_loss: 1.6187 - val_mae: 1.6187 - val_mse: 6.4417\n",
            "Epoch 286/300\n",
            "10/10 [==============================] - 0s 5ms/step - loss: 1.8661 - mae: 1.8661 - mse: 8.5203 - val_loss: 1.6173 - val_mae: 1.6173 - val_mse: 6.4357\n",
            "Epoch 287/300\n",
            "10/10 [==============================] - 0s 5ms/step - loss: 1.8660 - mae: 1.8660 - mse: 8.5151 - val_loss: 1.6170 - val_mae: 1.6170 - val_mse: 6.4340\n",
            "Epoch 288/300\n",
            "10/10 [==============================] - 0s 5ms/step - loss: 1.8660 - mae: 1.8660 - mse: 8.5193 - val_loss: 1.6185 - val_mae: 1.6185 - val_mse: 6.4396\n",
            "Epoch 289/300\n",
            "10/10 [==============================] - 0s 5ms/step - loss: 1.8656 - mae: 1.8656 - mse: 8.5164 - val_loss: 1.6170 - val_mae: 1.6170 - val_mse: 6.4328\n",
            "Epoch 290/300\n",
            "10/10 [==============================] - 0s 4ms/step - loss: 1.8656 - mae: 1.8656 - mse: 8.5128 - val_loss: 1.6172 - val_mae: 1.6172 - val_mse: 6.4334\n",
            "Epoch 291/300\n",
            "10/10 [==============================] - 0s 4ms/step - loss: 1.8656 - mae: 1.8656 - mse: 8.5123 - val_loss: 1.6174 - val_mae: 1.6174 - val_mse: 6.4336\n",
            "Epoch 292/300\n",
            "10/10 [==============================] - 0s 5ms/step - loss: 1.8662 - mae: 1.8662 - mse: 8.5195 - val_loss: 1.6179 - val_mae: 1.6179 - val_mse: 6.4352\n",
            "Epoch 293/300\n",
            "10/10 [==============================] - 0s 4ms/step - loss: 1.8655 - mae: 1.8655 - mse: 8.5129 - val_loss: 1.6168 - val_mae: 1.6168 - val_mse: 6.4302\n",
            "Epoch 294/300\n",
            "10/10 [==============================] - 0s 4ms/step - loss: 1.8655 - mae: 1.8655 - mse: 8.5146 - val_loss: 1.6175 - val_mae: 1.6175 - val_mse: 6.4327\n",
            "Epoch 295/300\n",
            "10/10 [==============================] - 0s 7ms/step - loss: 1.8653 - mae: 1.8653 - mse: 8.5106 - val_loss: 1.6171 - val_mae: 1.6171 - val_mse: 6.4305\n",
            "Epoch 296/300\n",
            "10/10 [==============================] - 0s 5ms/step - loss: 1.8652 - mae: 1.8652 - mse: 8.5124 - val_loss: 1.6170 - val_mae: 1.6170 - val_mse: 6.4296\n",
            "Epoch 297/300\n",
            "10/10 [==============================] - 0s 6ms/step - loss: 1.8657 - mae: 1.8657 - mse: 8.5053 - val_loss: 1.6143 - val_mae: 1.6143 - val_mse: 6.4166\n",
            "Epoch 298/300\n",
            "10/10 [==============================] - 0s 5ms/step - loss: 1.8655 - mae: 1.8655 - mse: 8.5020 - val_loss: 1.6160 - val_mae: 1.6160 - val_mse: 6.4241\n",
            "Epoch 299/300\n",
            "10/10 [==============================] - 0s 4ms/step - loss: 1.8650 - mae: 1.8650 - mse: 8.5085 - val_loss: 1.6179 - val_mae: 1.6179 - val_mse: 6.4314\n",
            "Epoch 300/300\n",
            "10/10 [==============================] - 0s 5ms/step - loss: 1.8651 - mae: 1.8651 - mse: 8.5114 - val_loss: 1.6162 - val_mae: 1.6162 - val_mse: 6.4240\n"
          ],
          "name": "stdout"
        }
      ]
    },
    {
      "cell_type": "code",
      "metadata": {
        "colab": {
          "base_uri": "https://localhost:8080/"
        },
        "id": "8GE8F4LEvesd",
        "outputId": "c7de5a02-02a7-400e-d3b4-1b92c436a090"
      },
      "source": [
        "model.summary()"
      ],
      "execution_count": null,
      "outputs": [
        {
          "output_type": "stream",
          "text": [
            "Model: \"sequential_2\"\n",
            "_________________________________________________________________\n",
            "Layer (type)                 Output Shape              Param #   \n",
            "=================================================================\n",
            "dense_2 (Dense)              (None, 1)                 2         \n",
            "=================================================================\n",
            "Total params: 2\n",
            "Trainable params: 2\n",
            "Non-trainable params: 0\n",
            "_________________________________________________________________\n"
          ],
          "name": "stdout"
        }
      ]
    },
    {
      "cell_type": "code",
      "metadata": {
        "colab": {
          "base_uri": "https://localhost:8080/"
        },
        "id": "1_ZDGnwmyfyN",
        "outputId": "f20c70f9-c1bb-464a-b349-949c1f863e3d"
      },
      "source": [
        "tempListforPreds=[1,2,3,4,5]\n",
        "\n",
        "print(model.predict(tempListforPreds))"
      ],
      "execution_count": null,
      "outputs": [
        {
          "output_type": "stream",
          "text": [
            "[[1.6294861]\n",
            " [2.5720334]\n",
            " [3.5145807]\n",
            " [4.457128 ]\n",
            " [5.3996754]]\n"
          ],
          "name": "stdout"
        }
      ]
    },
    {
      "cell_type": "code",
      "metadata": {
        "colab": {
          "base_uri": "https://localhost:8080/",
          "height": 1000
        },
        "id": "kkH-5u3Mvhxc",
        "outputId": "2d07093c-823e-4ae1-99ed-668916e83b86"
      },
      "source": [
        "# string --> loss , mae, mse\n",
        "import matplotlib.pyplot as plt\n",
        "\n",
        "def plotGraphs(history, string): \n",
        "  plt.plot(history.history[string])\n",
        "  plt.plot(history.history[f'val_{string}'])\n",
        "  plt.xlabel('Num of Epochs')\n",
        "  plt.ylabel(string)\n",
        "  plt.legend([string, f'val_{string}'])\n",
        "  plt.show()\n",
        "\n",
        "plotGraphs(history, 'loss')\n",
        "plotGraphs(history, 'mae')\n",
        "plotGraphs(history, 'mse')"
      ],
      "execution_count": null,
      "outputs": [
        {
          "output_type": "display_data",
          "data": {
            "image/png": "[encoded data removed]",
            "text/plain": [
              "<Figure size 576x396 with 1 Axes>"
            ]
          },
          "metadata": {
            "tags": []
          }
        },
        {
          "output_type": "display_data",
          "data": {
            "image/png": "[encoded data removed]",
            "text/plain": [
              "<Figure size 576x396 with 1 Axes>"
            ]
          },
          "metadata": {
            "tags": []
          }
        },
        {
          "output_type": "display_data",
          "data": {
            "image/png": "[encoded data removed]",
            "text/plain": [
              "<Figure size 576x396 with 1 Axes>"
            ]
          },
          "metadata": {
            "tags": []
          }
        }
      ]
    },
    {
      "cell_type": "code",
      "metadata": {
        "colab": {
          "base_uri": "https://localhost:8080/"
        },
        "id": "J0hIO6oMzAR8",
        "outputId": "a3b310c8-fe82-4f0c-ff64-794b64027cd8"
      },
      "source": [
        "testPreds = model.predict(testFeatures).flatten() #array of all prediction values\n",
        "print(testPreds)"
      ],
      "execution_count": null,
      "outputs": [
        {
          "output_type": "stream",
          "text": [
            "[13.882601   6.3422227 11.054959  16.710243  16.710243  11.997506\n",
            " 13.882601  18.595339  18.595339   8.227317  13.882601  12.940053\n",
            "  8.227317   7.28477    9.169864  12.940053  11.054959  15.767695\n",
            "  7.28477   10.1124115 14.825149  12.940053  13.882601  15.767695\n",
            "  7.28477    7.28477    8.227317  10.1124115 11.997506  10.1124115\n",
            " 11.997506  12.940053  10.1124115  6.3422227  9.169864  11.997506\n",
            "  7.28477    8.227317  13.882601   9.169864   9.169864   7.28477\n",
            " 11.997506   6.3422227 12.940053   7.28477    7.28477   11.054959\n",
            " 12.940053  16.710243  11.997506  14.825149   9.169864  11.997506\n",
            " 14.825149  11.997506  14.825149  11.997506  14.825149  11.054959\n",
            " 11.997506   8.227317  15.767695   7.28477   15.767695  11.054959\n",
            " 15.767695  12.940053   8.227317   8.227317  11.997506  17.65279\n",
            " 12.940053  15.767695  10.1124115  7.28477   10.1124115  7.28477\n",
            " 11.054959 ]\n"
          ],
          "name": "stdout"
        }
      ]
    },
    {
      "cell_type": "code",
      "metadata": {
        "colab": {
          "base_uri": "https://localhost:8080/",
          "height": 361
        },
        "id": "JVJiFCZgwNcV",
        "outputId": "bde4bcc3-984b-4e6c-91a9-545d1f2be3b4"
      },
      "source": [
        "# prediciton plot --> how well is your model predicting across the actual labels\n",
        "\n",
        "def predPlot(labels, predictions):\n",
        "  plt.scatter(labels, predictions)\n",
        "  plt.ylabel('Predictions')\n",
        "  plt.xlabel('True Value or Labels')\n",
        "  plt.axis('equal')\n",
        "  plt.axis('square')\n",
        "  plt.xlim([0, plt.xlim()[1]])\n",
        "  plt.ylim([0, plt.ylim()[1]])\n",
        "\n",
        "  plt.show()\n",
        "\n",
        "predPlot(testLabels, testPreds)"
      ],
      "execution_count": null,
      "outputs": [
        {
          "output_type": "display_data",
          "data": {
            "image/png": "[encoded data removed]",
            "text/plain": [
              "<Figure size 576x396 with 1 Axes>"
            ]
          },
          "metadata": {
            "tags": []
          }
        }
      ]
    },
    {
      "cell_type": "code",
      "metadata": {
        "colab": {
          "base_uri": "https://localhost:8080/",
          "height": 361
        },
        "id": "NiZOaq_p07sw",
        "outputId": "262f4371-f658-447b-a62d-e4630ca95ec4"
      },
      "source": [
        "#error plot --> gaussian distribution \n",
        "\n",
        "def errorPlot(preds, labels, counts):\n",
        "  errors = preds - labels\n",
        "  plt.hist(errors, counts)\n",
        "  plt.xlabel('Error')\n",
        "  plt.ylabel('Counts')\n",
        "  plt.show()\n",
        "\n",
        "errorPlot(testPreds, testLabels, numEpochs)"
      ],
      "execution_count": null,
      "outputs": [
        {
          "output_type": "display_data",
          "data": {
            "image/png": "[encoded data removed]",
            "text/plain": [
              "<Figure size 576x396 with 1 Axes>"
            ]
          },
          "metadata": {
            "tags": []
          }
        }
      ]
    }
  ]
}